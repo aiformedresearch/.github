{
 "cells": [
  {
   "cell_type": "code",
   "execution_count": 1,
   "id": "85ea2e53",
   "metadata": {
    "_cell_guid": "22b0e429-ed4a-4d7d-83f7-5a4ffaa2d3c0",
    "_uuid": "ee8553ba-1426-4062-ab9e-941c6c699862",
    "collapsed": false,
    "execution": {
     "iopub.execute_input": "2025-04-15T16:28:11.344264Z",
     "iopub.status.busy": "2025-04-15T16:28:11.344003Z",
     "iopub.status.idle": "2025-04-15T16:28:12.701742Z",
     "shell.execute_reply": "2025-04-15T16:28:12.700941Z"
    },
    "jupyter": {
     "outputs_hidden": false
    },
    "papermill": {
     "duration": 1.367952,
     "end_time": "2025-04-15T16:28:12.703215",
     "exception": false,
     "start_time": "2025-04-15T16:28:11.335263",
     "status": "completed"
    },
    "tags": []
   },
   "outputs": [
    {
     "name": "stdout",
     "output_type": "stream",
     "text": [
      "/kaggle/input/the-management-of-type-1-diabetes-in-adults/dci210043.pdf\n"
     ]
    }
   ],
   "source": [
    "# This Python 3 environment comes with many helpful analytics libraries installed\n",
    "# It is defined by the kaggle/python Docker image: https://github.com/kaggle/docker-python\n",
    "# For example, here's several helpful packages to load\n",
    "\n",
    "import numpy as np # linear algebra\n",
    "import pandas as pd # data processing, CSV file I/O (e.g. pd.read_csv)\n",
    "\n",
    "# Input data files are available in the read-only \"../input/\" directory\n",
    "# For example, running this (by clicking run or pressing Shift+Enter) will list all files under the input directory\n",
    "\n",
    "import os\n",
    "for dirname, _, filenames in os.walk('/kaggle/input'):\n",
    "    for filename in filenames:\n",
    "        print(os.path.join(dirname, filename))\n",
    "\n",
    "# You can write up to 20GB to the current directory (/kaggle/working/) that gets preserved as output when you create a version using \"Save & Run All\" \n",
    "# You can also write temporary files to /kaggle/temp/, but they won't be saved outside of the current session"
   ]
  },
  {
   "cell_type": "markdown",
   "id": "2e8bc0ea",
   "metadata": {
    "_cell_guid": "fe6ad832-0f9f-4c92-92e3-dafd1dd1c126",
    "_uuid": "cf0350ff-329f-4468-80a8-00363d94d584",
    "collapsed": false,
    "jupyter": {
     "outputs_hidden": false
    },
    "papermill": {
     "duration": 0.006843,
     "end_time": "2025-04-15T16:28:12.717232",
     "exception": false,
     "start_time": "2025-04-15T16:28:12.710389",
     "status": "completed"
    },
    "tags": []
   },
   "source": [
    "# The Ass1stant D\n",
    "## a personalized meal planner for T1D Patients"
   ]
  },
  {
   "cell_type": "markdown",
   "id": "3185f551",
   "metadata": {
    "papermill": {
     "duration": 0.006085,
     "end_time": "2025-04-15T16:28:12.729784",
     "exception": false,
     "start_time": "2025-04-15T16:28:12.723699",
     "status": "completed"
    },
    "tags": []
   },
   "source": [
    "**Overview:**  \n",
    "This notebook showcases a GenAI-powered assistant that helps build **personalized meal plans** for people with T1D. It leverages glucose data, medical guidelines, and AI-generated recipe analysis to offer tailored nutrition strategies.\n",
    "\n",
    "> ⚠️ **Disclaimer:** This notebook demonstrates an AI agent concept for educational purposes related to Type 1 Diabetes management. It is **NOT** a medical device or a substitute for professional medical advice, diagnosis, or treatment. Always seek the advice of your physician or other qualified health provider with any questions you may have regarding a medical condition. Never disregard professional medical advice or delay in seeking it because of something you have read in this notebook."
   ]
  },
  {
   "cell_type": "markdown",
   "id": "8b241cc4",
   "metadata": {
    "_cell_guid": "52a76694-441e-4d74-af7e-37eb917a7e41",
    "_uuid": "52579a5f-463d-46cd-90cb-b22f8343f172",
    "collapsed": false,
    "jupyter": {
     "outputs_hidden": false
    },
    "papermill": {
     "duration": 0.00603,
     "end_time": "2025-04-15T16:28:12.741942",
     "exception": false,
     "start_time": "2025-04-15T16:28:12.735912",
     "status": "completed"
    },
    "tags": []
   },
   "source": [
    "### Understanding Type 1 Diabetes Management Challenges\n",
    "\n",
    "Type 1 Diabetes (T1D) is an autoimmune condition where the pancreas produces little to no insulin, requiring patients to manually regulate their blood glucose through insulin therapy and dietary management. This presents several key challenges:\n",
    " \n",
    "1. **Complex Meal Planning**: Every meal must be carefully balanced to avoid blood glucose spikes or dangerous lows\n",
    "2. **Individual Variability**: Each patient has unique insulin sensitivity, dietary preferences, and glucose patterns\n",
    "3. **Continuous Adaptation**: Management strategies must evolve based on changing glucose patterns, activity levels, and physiological changes\n",
    "\n",
    "Traditional static meal plans fail to address these dynamic needs, often leading to suboptimal glucose control. A one-size-fits-all approach is inadequate for T1D management.\n",
    " \n",
    "### How GenAI Creates a Personalized Solution\n",
    " \n",
    "This notebook demonstrates an AI agent that leverages large language models to create highly personalized meal plans for T1D patients by:\n",
    "1. **Analyzing Individual Data**: Processing glucose patterns and patient profiles to identify specific needs\n",
    "2. **Retrieving Expert Knowledge**: Using vector embeddings to access relevant medical guidelines based on patient characteristics\n",
    "3. **Generating Personalized Recommendations**: Creating tailored meal plans that address the patient's specific glucose patterns\n",
    "4. **Explaining Recommendations**: Providing clear rationales connecting meal choices to glucose management strategies\n",
    "\n",
    "### Code Structure\n",
    "- **Data Analysis Module**: Processes glucose readings to identify patterns (dawn phenomenon, post-meal spikes, etc.)\n",
    "- **Knowledge Retrieval System**: Uses vector DB and embeddings to access relevant T1D guidelines\n",
    "- **Recipe Generation**: Creates personalized meal plans aligned with medical guidelines\n",
    "- **Explanation Engine**: Provides clear connections between meal recommendations and glucose management"
   ]
  },
  {
   "cell_type": "markdown",
   "id": "aecf822c",
   "metadata": {
    "_cell_guid": "74b110f0-034d-48c2-ba45-ce3dfe7607d2",
    "_uuid": "69bc1171-1e8c-45fe-81f0-f9e4b3065eb0",
    "collapsed": false,
    "jupyter": {
     "outputs_hidden": false
    },
    "papermill": {
     "duration": 0.006003,
     "end_time": "2025-04-15T16:28:12.754038",
     "exception": false,
     "start_time": "2025-04-15T16:28:12.748035",
     "status": "completed"
    },
    "tags": []
   },
   "source": [
    "## Setup and dependencies"
   ]
  },
  {
   "cell_type": "code",
   "execution_count": 2,
   "id": "b247f8b3",
   "metadata": {
    "_cell_guid": "724f00b8-5b97-4b24-8007-191ffe6e0fa7",
    "_uuid": "4bb7613e-275c-4e28-93ff-eb1d60a52a17",
    "collapsed": false,
    "execution": {
     "iopub.execute_input": "2025-04-15T16:28:12.767524Z",
     "iopub.status.busy": "2025-04-15T16:28:12.767201Z",
     "iopub.status.idle": "2025-04-15T16:28:20.626721Z",
     "shell.execute_reply": "2025-04-15T16:28:20.626096Z"
    },
    "jupyter": {
     "outputs_hidden": false
    },
    "papermill": {
     "duration": 7.867557,
     "end_time": "2025-04-15T16:28:20.628023",
     "exception": false,
     "start_time": "2025-04-15T16:28:12.760466",
     "status": "completed"
    },
    "tags": []
   },
   "outputs": [
    {
     "name": "stdout",
     "output_type": "stream",
     "text": [
      "\u001b[2K   \u001b[90m━━━━━━━━━━━━━━━━━━━━━━━━━━━━━━━━━━━━━━━━\u001b[0m \u001b[32m144.7/144.7 kB\u001b[0m \u001b[31m10.1 MB/s\u001b[0m eta \u001b[36m0:00:00\u001b[0m\r\n",
      "\u001b[2K   \u001b[90m━━━━━━━━━━━━━━━━━━━━━━━━━━━━━━━━━━━━━━━━\u001b[0m \u001b[32m100.9/100.9 kB\u001b[0m \u001b[31m6.2 MB/s\u001b[0m eta \u001b[36m0:00:00\u001b[0m\r\n",
      "\u001b[?25h\u001b[31mERROR: pip's dependency resolver does not currently take into account all the packages that are installed. This behaviour is the source of the following dependency conflicts.\r\n",
      "jupyterlab-lsp 3.10.2 requires jupyterlab<4.0.0a0,>=3.1.0, which is not installed.\u001b[0m\u001b[31m\r\n",
      "\u001b[0m"
     ]
    }
   ],
   "source": [
    "!pip uninstall -qqy jupyterlab  # Remove unused conflicting packages\n",
    "!pip install -U -q \"google-genai==1.7.0\"\n",
    "\n",
    "from google import genai\n",
    "from google.genai import types\n",
    "\n",
    "from kaggle_secrets import UserSecretsClient\n",
    "GOOGLE_API_KEY = UserSecretsClient().get_secret(\"GOOGLE_API_KEY\")"
   ]
  },
  {
   "cell_type": "code",
   "execution_count": 3,
   "id": "484f70ef",
   "metadata": {
    "_cell_guid": "42c552a3-a981-4b8c-ab9e-94869e013fbd",
    "_uuid": "5f8ffc89-6c9d-4f2f-9720-bd9a6a29402f",
    "collapsed": false,
    "execution": {
     "iopub.execute_input": "2025-04-15T16:28:20.642506Z",
     "iopub.status.busy": "2025-04-15T16:28:20.642157Z",
     "iopub.status.idle": "2025-04-15T16:28:20.647239Z",
     "shell.execute_reply": "2025-04-15T16:28:20.646700Z"
    },
    "jupyter": {
     "outputs_hidden": false
    },
    "papermill": {
     "duration": 0.013406,
     "end_time": "2025-04-15T16:28:20.648282",
     "exception": false,
     "start_time": "2025-04-15T16:28:20.634876",
     "status": "completed"
    },
    "tags": []
   },
   "outputs": [
    {
     "data": {
      "text/plain": [
       "'1.7.0'"
      ]
     },
     "execution_count": 3,
     "metadata": {},
     "output_type": "execute_result"
    }
   ],
   "source": [
    "genai.__version__"
   ]
  },
  {
   "cell_type": "code",
   "execution_count": 4,
   "id": "88eae53d",
   "metadata": {
    "_cell_guid": "1613b277-3823-4e39-9f3a-f96872ba33bd",
    "_uuid": "e4002412-04fc-4a0d-bb78-5beeaa2a8700",
    "collapsed": false,
    "execution": {
     "iopub.execute_input": "2025-04-15T16:28:20.662286Z",
     "iopub.status.busy": "2025-04-15T16:28:20.662081Z",
     "iopub.status.idle": "2025-04-15T16:28:47.716864Z",
     "shell.execute_reply": "2025-04-15T16:28:47.715883Z"
    },
    "jupyter": {
     "outputs_hidden": false
    },
    "papermill": {
     "duration": 27.063219,
     "end_time": "2025-04-15T16:28:47.718301",
     "exception": false,
     "start_time": "2025-04-15T16:28:20.655082",
     "status": "completed"
    },
    "tags": []
   },
   "outputs": [
    {
     "name": "stdout",
     "output_type": "stream",
     "text": [
      "\u001b[2K     \u001b[90m━━━━━━━━━━━━━━━━━━━━━━━━━━━━━━━━━━━━━━━━\u001b[0m \u001b[32m67.3/67.3 kB\u001b[0m \u001b[31m4.0 MB/s\u001b[0m eta \u001b[36m0:00:00\u001b[0m\r\n",
      "\u001b[?25h  Installing build dependencies ... \u001b[?25l\u001b[?25hdone\r\n",
      "  Getting requirements to build wheel ... \u001b[?25l\u001b[?25hdone\r\n",
      "  Preparing metadata (pyproject.toml) ... \u001b[?25l\u001b[?25hdone\r\n",
      "\u001b[2K   \u001b[90m━━━━━━━━━━━━━━━━━━━━━━━━━━━━━━━━━━━━━━━━\u001b[0m \u001b[32m18.3/18.3 MB\u001b[0m \u001b[31m93.2 MB/s\u001b[0m eta \u001b[36m0:00:00\u001b[0m\r\n",
      "\u001b[2K   \u001b[90m━━━━━━━━━━━━━━━━━━━━━━━━━━━━━━━━━━━━━━━━\u001b[0m \u001b[32m2.4/2.4 MB\u001b[0m \u001b[31m77.1 MB/s\u001b[0m eta \u001b[36m0:00:00\u001b[0m\r\n",
      "\u001b[2K   \u001b[90m━━━━━━━━━━━━━━━━━━━━━━━━━━━━━━━━━━━━━━━━\u001b[0m \u001b[32m94.9/94.9 kB\u001b[0m \u001b[31m7.2 MB/s\u001b[0m eta \u001b[36m0:00:00\u001b[0m\r\n",
      "\u001b[2K   \u001b[90m━━━━━━━━━━━━━━━━━━━━━━━━━━━━━━━━━━━━━━━━\u001b[0m \u001b[32m284.2/284.2 kB\u001b[0m \u001b[31m21.2 MB/s\u001b[0m eta \u001b[36m0:00:00\u001b[0m\r\n",
      "\u001b[2K   \u001b[90m━━━━━━━━━━━━━━━━━━━━━━━━━━━━━━━━━━━━━━━━\u001b[0m \u001b[32m2.0/2.0 MB\u001b[0m \u001b[31m80.4 MB/s\u001b[0m eta \u001b[36m0:00:00\u001b[0m\r\n",
      "\u001b[2K   \u001b[90m━━━━━━━━━━━━━━━━━━━━━━━━━━━━━━━━━━━━━━━━\u001b[0m \u001b[32m101.6/101.6 kB\u001b[0m \u001b[31m6.2 MB/s\u001b[0m eta \u001b[36m0:00:00\u001b[0m\r\n",
      "\u001b[2K   \u001b[90m━━━━━━━━━━━━━━━━━━━━━━━━━━━━━━━━━━━━━━━━\u001b[0m \u001b[32m16.0/16.0 MB\u001b[0m \u001b[31m31.5 MB/s\u001b[0m eta \u001b[36m0:00:00\u001b[0m\r\n",
      "\u001b[2K   \u001b[90m━━━━━━━━━━━━━━━━━━━━━━━━━━━━━━━━━━━━━━━━\u001b[0m \u001b[32m55.9/55.9 kB\u001b[0m \u001b[31m4.1 MB/s\u001b[0m eta \u001b[36m0:00:00\u001b[0m\r\n",
      "\u001b[2K   \u001b[90m━━━━━━━━━━━━━━━━━━━━━━━━━━━━━━━━━━━━━━━━\u001b[0m \u001b[32m188.4/188.4 kB\u001b[0m \u001b[31m16.1 MB/s\u001b[0m eta \u001b[36m0:00:00\u001b[0m\r\n",
      "\u001b[2K   \u001b[90m━━━━━━━━━━━━━━━━━━━━━━━━━━━━━━━━━━━━━━━━\u001b[0m \u001b[32m65.3/65.3 kB\u001b[0m \u001b[31m4.7 MB/s\u001b[0m eta \u001b[36m0:00:00\u001b[0m\r\n",
      "\u001b[2K   \u001b[90m━━━━━━━━━━━━━━━━━━━━━━━━━━━━━━━━━━━━━━━━\u001b[0m \u001b[32m119.0/119.0 kB\u001b[0m \u001b[31m10.5 MB/s\u001b[0m eta \u001b[36m0:00:00\u001b[0m\r\n",
      "\u001b[2K   \u001b[90m━━━━━━━━━━━━━━━━━━━━━━━━━━━━━━━━━━━━━━━━\u001b[0m \u001b[32m85.7/85.7 kB\u001b[0m \u001b[31m4.9 MB/s\u001b[0m eta \u001b[36m0:00:00\u001b[0m\r\n",
      "\u001b[2K   \u001b[90m━━━━━━━━━━━━━━━━━━━━━━━━━━━━━━━━━━━━━━━━\u001b[0m \u001b[32m62.4/62.4 kB\u001b[0m \u001b[31m4.7 MB/s\u001b[0m eta \u001b[36m0:00:00\u001b[0m\r\n",
      "\u001b[2K   \u001b[90m━━━━━━━━━━━━━━━━━━━━━━━━━━━━━━━━━━━━━━━━\u001b[0m \u001b[32m459.8/459.8 kB\u001b[0m \u001b[31m25.1 MB/s\u001b[0m eta \u001b[36m0:00:00\u001b[0m\r\n",
      "\u001b[2K   \u001b[90m━━━━━━━━━━━━━━━━━━━━━━━━━━━━━━━━━━━━━━━━\u001b[0m \u001b[32m319.7/319.7 kB\u001b[0m \u001b[31m18.7 MB/s\u001b[0m eta \u001b[36m0:00:00\u001b[0m\r\n",
      "\u001b[2K   \u001b[90m━━━━━━━━━━━━━━━━━━━━━━━━━━━━━━━━━━━━━━━━\u001b[0m \u001b[32m71.5/71.5 kB\u001b[0m \u001b[31m5.4 MB/s\u001b[0m eta \u001b[36m0:00:00\u001b[0m\r\n",
      "\u001b[2K   \u001b[90m━━━━━━━━━━━━━━━━━━━━━━━━━━━━━━━━━━━━━━━━\u001b[0m \u001b[32m4.0/4.0 MB\u001b[0m \u001b[31m93.0 MB/s\u001b[0m eta \u001b[36m0:00:00\u001b[0m\r\n",
      "\u001b[2K   \u001b[90m━━━━━━━━━━━━━━━━━━━━━━━━━━━━━━━━━━━━━━━━\u001b[0m \u001b[32m454.8/454.8 kB\u001b[0m \u001b[31m28.4 MB/s\u001b[0m eta \u001b[36m0:00:00\u001b[0m\r\n",
      "\u001b[2K   \u001b[90m━━━━━━━━━━━━━━━━━━━━━━━━━━━━━━━━━━━━━━━━\u001b[0m \u001b[32m46.0/46.0 kB\u001b[0m \u001b[31m3.6 MB/s\u001b[0m eta \u001b[36m0:00:00\u001b[0m\r\n",
      "\u001b[2K   \u001b[90m━━━━━━━━━━━━━━━━━━━━━━━━━━━━━━━━━━━━━━━━\u001b[0m \u001b[32m86.8/86.8 kB\u001b[0m \u001b[31m7.2 MB/s\u001b[0m eta \u001b[36m0:00:00\u001b[0m\r\n",
      "\u001b[?25h  Building wheel for pypika (pyproject.toml) ... \u001b[?25l\u001b[?25hdone\r\n",
      "\u001b[31mERROR: pip's dependency resolver does not currently take into account all the packages that are installed. This behaviour is the source of the following dependency conflicts.\r\n",
      "google-cloud-translate 3.12.1 requires protobuf!=3.20.0,!=3.20.1,!=4.21.0,!=4.21.1,!=4.21.2,!=4.21.3,!=4.21.4,!=4.21.5,<5.0.0dev,>=3.19.5, but you have protobuf 5.29.4 which is incompatible.\r\n",
      "google-api-core 1.34.1 requires protobuf!=3.20.0,!=3.20.1,!=4.21.0,!=4.21.1,!=4.21.2,!=4.21.3,!=4.21.4,!=4.21.5,<4.0.0dev,>=3.19.5, but you have protobuf 5.29.4 which is incompatible.\r\n",
      "google-spark-connect 0.5.2 requires google-api-core>=2.19.1, but you have google-api-core 1.34.1 which is incompatible.\r\n",
      "pandas-gbq 0.26.1 requires google-api-core<3.0.0dev,>=2.10.2, but you have google-api-core 1.34.1 which is incompatible.\r\n",
      "bigframes 1.36.0 requires rich<14,>=12.4.4, but you have rich 14.0.0 which is incompatible.\r\n",
      "google-cloud-bigtable 2.28.1 requires google-api-core[grpc]<3.0.0dev,>=2.16.0, but you have google-api-core 1.34.1 which is incompatible.\u001b[0m\u001b[31m\r\n",
      "\u001b[0m"
     ]
    }
   ],
   "source": [
    "!pip install -q chromadb matplotlib seaborn"
   ]
  },
  {
   "cell_type": "code",
   "execution_count": 5,
   "id": "521378ea",
   "metadata": {
    "_cell_guid": "1258a2f7-70ae-453c-b5a8-e38ad40e591e",
    "_uuid": "9ac7dff9-193a-4307-adfd-5612243784a8",
    "collapsed": false,
    "execution": {
     "iopub.execute_input": "2025-04-15T16:28:47.735839Z",
     "iopub.status.busy": "2025-04-15T16:28:47.735554Z",
     "iopub.status.idle": "2025-04-15T16:28:49.962072Z",
     "shell.execute_reply": "2025-04-15T16:28:49.961240Z"
    },
    "jupyter": {
     "outputs_hidden": false
    },
    "papermill": {
     "duration": 2.236577,
     "end_time": "2025-04-15T16:28:49.963506",
     "exception": false,
     "start_time": "2025-04-15T16:28:47.726929",
     "status": "completed"
    },
    "tags": []
   },
   "outputs": [],
   "source": [
    "import pandas as pd\n",
    "import numpy as np\n",
    "from typing import List, Dict, Any, Optional, Tuple\n",
    "import json\n",
    "import logging\n",
    "from sklearn.metrics.pairwise import cosine_similarity\n",
    "from datetime import datetime, timedelta\n",
    "from IPython.display import Markdown, display, HTML\n",
    "import matplotlib.pyplot as plt\n",
    "import seaborn as sns\n",
    "import textwrap\n",
    "import chromadb\n",
    "from chromadb import Documents, EmbeddingFunction, Embeddings"
   ]
  },
  {
   "cell_type": "code",
   "execution_count": 6,
   "id": "7110f1ef",
   "metadata": {
    "_cell_guid": "c8ffb4a0-a044-4271-b346-c89749025542",
    "_uuid": "041689c0-65d2-43de-b083-2dbbb80e3ecf",
    "collapsed": false,
    "execution": {
     "iopub.execute_input": "2025-04-15T16:28:49.980735Z",
     "iopub.status.busy": "2025-04-15T16:28:49.980050Z",
     "iopub.status.idle": "2025-04-15T16:28:50.264690Z",
     "shell.execute_reply": "2025-04-15T16:28:50.264085Z"
    },
    "jupyter": {
     "outputs_hidden": false
    },
    "papermill": {
     "duration": 0.294383,
     "end_time": "2025-04-15T16:28:50.266035",
     "exception": false,
     "start_time": "2025-04-15T16:28:49.971652",
     "status": "completed"
    },
    "tags": []
   },
   "outputs": [],
   "source": [
    "client = genai.Client(api_key=GOOGLE_API_KEY)"
   ]
  },
  {
   "cell_type": "code",
   "execution_count": 7,
   "id": "d665b050",
   "metadata": {
    "_cell_guid": "25abb344-f75a-4625-b5e9-aa96c6be7281",
    "_uuid": "abb31a1c-3bbd-4a04-b9f8-391016ce8df3",
    "collapsed": false,
    "execution": {
     "iopub.execute_input": "2025-04-15T16:28:50.282424Z",
     "iopub.status.busy": "2025-04-15T16:28:50.282221Z",
     "iopub.status.idle": "2025-04-15T16:28:50.285818Z",
     "shell.execute_reply": "2025-04-15T16:28:50.285119Z"
    },
    "jupyter": {
     "outputs_hidden": false
    },
    "papermill": {
     "duration": 0.012806,
     "end_time": "2025-04-15T16:28:50.286853",
     "exception": false,
     "start_time": "2025-04-15T16:28:50.274047",
     "status": "completed"
    },
    "tags": []
   },
   "outputs": [],
   "source": [
    "# Setup logging\n",
    "logging.basicConfig(level=logging.INFO)\n",
    "logger = logging.getLogger(__name__)"
   ]
  },
  {
   "cell_type": "markdown",
   "id": "30cc59e6",
   "metadata": {
    "_cell_guid": "6713e88c-806e-4547-9278-5b2e591b7154",
    "_uuid": "3d2cb962-bea7-497e-b0ef-b0d92fa596ec",
    "collapsed": false,
    "jupyter": {
     "outputs_hidden": false
    },
    "papermill": {
     "duration": 0.007384,
     "end_time": "2025-04-15T16:28:50.301802",
     "exception": false,
     "start_time": "2025-04-15T16:28:50.294418",
     "status": "completed"
    },
    "tags": []
   },
   "source": [
    "### Vector database (T1D guidelines)"
   ]
  },
  {
   "cell_type": "markdown",
   "id": "db1901cc",
   "metadata": {
    "_cell_guid": "fdd8112b-3bf8-403e-9a17-c5bf0a052989",
    "_uuid": "b10ff161-c1a6-47af-bd2a-e7303b488a24",
    "collapsed": false,
    "jupyter": {
     "outputs_hidden": false
    },
    "papermill": {
     "duration": 0.007419,
     "end_time": "2025-04-15T16:28:50.316704",
     "exception": false,
     "start_time": "2025-04-15T16:28:50.309285",
     "status": "completed"
    },
    "tags": []
   },
   "source": [
    "This section creates a vector database of T1D management guidelines using ChromaDB. This approach allows us to:\n",
    "\n",
    "1. **Store Medical Knowledge**: Guidelines for different age groups, glucose patterns, and weight considerations\n",
    "2. **Enable Semantic Search**: Find the most relevant guidelines based on patient characteristics  \n",
    "3. **Support Contextual Retrieval**: Provide the LLM with only the most pertinent medical information\n",
    " \n",
    "The embedding function uses Gemini's embedding model to convert text guidelines into vector representations, allowing for semantic similarity search. This form of knowledge retrieval ensures the agent provides medically appropriate advice based on established guidelines rather than hallucinating recommendations.\n",
    "\n",
    "**IMPORTANT: We are using sample guidelines here! They do not contain verified medical information!!!**"
   ]
  },
  {
   "cell_type": "code",
   "execution_count": 8,
   "id": "e60b8af7",
   "metadata": {
    "_cell_guid": "45413172-b5f5-4c6c-9318-8337c90cd52e",
    "_uuid": "2911bf94-06e6-427d-b563-09edd80d4020",
    "collapsed": false,
    "execution": {
     "iopub.execute_input": "2025-04-15T16:28:50.333160Z",
     "iopub.status.busy": "2025-04-15T16:28:50.332872Z",
     "iopub.status.idle": "2025-04-15T16:28:50.337713Z",
     "shell.execute_reply": "2025-04-15T16:28:50.337156Z"
    },
    "jupyter": {
     "outputs_hidden": false
    },
    "papermill": {
     "duration": 0.014474,
     "end_time": "2025-04-15T16:28:50.338733",
     "exception": false,
     "start_time": "2025-04-15T16:28:50.324259",
     "status": "completed"
    },
    "tags": []
   },
   "outputs": [],
   "source": [
    "documents = [\n",
    "    \"\"\"\n",
    "    Pediatric T1D Management (Ages 0-12)\n",
    "    Blood glucose targets: 90-180 mg/dL before meals, 100-180 mg/dL at bedtime\n",
    "    Insulin requirements: 0.5-0.8 units/kg/day during honeymoon phase; 0.7-1.0 units/kg/day post-honeymoon\n",
    "    Hypoglycemia management: Treat with 0.3g/kg of fast-acting carbohydrates for BG < 70 mg/dL\n",
    "    Recommended monitoring: Minimum 6-10 checks daily, CGM preferred\n",
    "    Physical activity: Additional carbohydrate intake of 10-15g per 30 minutes of moderate activity\n",
    "    \"\"\",\n",
    "    \n",
    "    \"\"\"\n",
    "    Adolescent T1D Management (Ages 13-18)\n",
    "    Blood glucose targets: 90-130 mg/dL before meals, 90-150 mg/dL at bedtime\n",
    "    Insulin requirements: 0.8-1.2 units/kg/day, may require higher doses during puberty\n",
    "    Recommended monitoring: Minimum 4-6 checks daily, CGM strongly recommended\n",
    "    Dawn phenomenon management: Consider increased basal rates by 10-20% between 4-8 AM\n",
    "    Weight-based considerations: BMI monitoring every 3 months, insulin sensitivity factor typically 1800/total daily dose\n",
    "    \"\"\",\n",
    "    \n",
    "    \"\"\"\n",
    "    Adult T1D Management (Ages 19-64)\n",
    "    Blood glucose targets: 80-130 mg/dL before meals, 90-150 mg/dL at bedtime, A1C < 7.0%\n",
    "    Insulin requirements: 0.5-1.0 units/kg/day, adjust based on activity level and insulin sensitivity\n",
    "    Dawn phenomenon: Consider increased basal rates by 10-30% between 3-7 AM or switching to pump therapy\n",
    "    Weight considerations: For every 10% over ideal body weight, reduce insulin sensitivity factor by 10%\n",
    "    Gender considerations: Women may require insulin adjustments during menstrual cycle (typically 20-30% increase during luteal phase)\n",
    "    \"\"\",\n",
    "    \n",
    "    \"\"\"\n",
    "    Elderly T1D Management (Ages 65+)\n",
    "    Blood glucose targets: 100-180 mg/dL before meals, 100-200 mg/dL at bedtime, A1C < 8.0%\n",
    "    Insulin requirements: Typically lower, 0.4-0.8 units/kg/day due to reduced renal function\n",
    "    Hypoglycemia risk: Higher risk, consider less aggressive targets and more frequent monitoring\n",
    "    Weight considerations: Sarcopenia may increase insulin sensitivity; lower doses recommended for BMI < 22\n",
    "    Comorbidity considerations: Adjust management based on cardiovascular, renal, and cognitive status\n",
    "    \"\"\",\n",
    "    \n",
    "    \"\"\"\n",
    "    Managing Dawn Phenomenon in T1D\n",
    "    Definition: Morning hyperglycemia due to counterregulatory hormones (growth hormone, cortisol) between 4-8 AM\n",
    "    Identification: Consistently elevated morning glucose readings despite normal bedtime readings\n",
    "    Management strategies:\n",
    "    - Basal insulin adjustment: Increase overnight basal by 10-20% or adjust pump basal rates between 3-7 AM\n",
    "    - Timing adjustment: Move long-acting insulin from dinner to bedtime\n",
    "    - Technology solutions: Consider closed-loop insulin pump systems with predictive algorithms\n",
    "    - Dietary considerations: Avoid high-fat or high-protein meals before bed\n",
    "    \"\"\",\n",
    "    \n",
    "    \"\"\"\n",
    "    Weight-Based T1D Management Guidelines\n",
    "    Underweight (BMI < 18.5): Insulin sensitivity typically higher, ISF often 1 unit per 80-100 mg/dL\n",
    "    Normal weight (BMI 18.5-24.9): Standard insulin calculation factors apply\n",
    "    Overweight (BMI 25-29.9): Decrease ISF by 10-20%, insulin requirements may be higher\n",
    "    Obese (BMI ≥ 30): Decrease ISF by 20-40%, significant insulin resistance may be present\n",
    "    Weight-based starting TDD calculation: 0.55 × weight(kg) for adults, 0.75 × weight(kg) for adolescents\n",
    "    For insulin pump users: Approximate basal needs are 40-50% of TDD\n",
    "    \"\"\"\n",
    "]"
   ]
  },
  {
   "cell_type": "markdown",
   "id": "e92e1fea",
   "metadata": {
    "_cell_guid": "57b80c71-3d14-4cf1-94bd-cb81ec1025cb",
    "_uuid": "dcbc69ad-487d-4b02-a826-ef72a31d55a1",
    "collapsed": false,
    "jupyter": {
     "outputs_hidden": false
    },
    "papermill": {
     "duration": 0.007388,
     "end_time": "2025-04-15T16:28:50.353723",
     "exception": false,
     "start_time": "2025-04-15T16:28:50.346335",
     "status": "completed"
    },
    "tags": []
   },
   "source": [
    "### Embedding Function for Medical Knowledge\n",
    "\n",
    "The embedding function below uses Gemini's embedding model to convert our T1D guidelines into vector representations. This is crucial because:\n",
    " \n",
    "1. It transforms medical text into numerical vectors that capture semantic meaning\n",
    "2. It enables similarity-based retrieval to find the most relevant guidelines\n",
    "3. It allows us to match patient characteristics to appropriate medical guidelines \n",
    "\n",
    "The model is specifically configured for document retrieval tasks to optimize for finding relevant medical information."
   ]
  },
  {
   "cell_type": "code",
   "execution_count": 9,
   "id": "bb8ded84",
   "metadata": {
    "_cell_guid": "98d25da7-cccc-46d5-8a4d-d7831fa539a0",
    "_uuid": "f82ad626-14e9-4ab0-a703-e0425a9ed7d4",
    "collapsed": false,
    "execution": {
     "iopub.execute_input": "2025-04-15T16:28:50.369586Z",
     "iopub.status.busy": "2025-04-15T16:28:50.369374Z",
     "iopub.status.idle": "2025-04-15T16:28:50.373389Z",
     "shell.execute_reply": "2025-04-15T16:28:50.372875Z"
    },
    "jupyter": {
     "outputs_hidden": false
    },
    "papermill": {
     "duration": 0.013195,
     "end_time": "2025-04-15T16:28:50.374422",
     "exception": false,
     "start_time": "2025-04-15T16:28:50.361227",
     "status": "completed"
    },
    "tags": []
   },
   "outputs": [],
   "source": [
    "class GeminiEmbeddingFunction(EmbeddingFunction):\n",
    "  def __call__(self, input: Documents) -> Embeddings:\n",
    "    EMBEDDING_MODEL_ID = \"models/embedding-001\"  # @param [\"models/embedding-001\", \"models/text-embedding-004\", \"models/gemini-embedding-exp-03-07\", \"models/gemini-embedding-exp\"] {\"allow-input\": true, \"isTemplate\": true}\n",
    "    title = \"Custom query\"\n",
    "    response = client.models.embed_content(\n",
    "        model=EMBEDDING_MODEL_ID,\n",
    "        contents=input,\n",
    "        config=types.EmbedContentConfig(\n",
    "          task_type=\"retrieval_document\",\n",
    "          title=title\n",
    "        )\n",
    "    )\n",
    "\n",
    "    return response.embeddings[0].values"
   ]
  },
  {
   "cell_type": "markdown",
   "id": "b652e852",
   "metadata": {
    "_cell_guid": "cfa1abaf-2818-4b42-a7a6-8d7471f5fd66",
    "_uuid": "ef54323c-7c86-4069-ad1d-9a4613f61436",
    "collapsed": false,
    "jupyter": {
     "outputs_hidden": false
    },
    "papermill": {
     "duration": 0.007456,
     "end_time": "2025-04-15T16:28:50.389480",
     "exception": false,
     "start_time": "2025-04-15T16:28:50.382024",
     "status": "completed"
    },
    "tags": []
   },
   "source": [
    "### Building the T1D Knowledge Database\n",
    "\n",
    "The functions below create and query our vector database of T1D guidelines. This approach enables:\n",
    "\n",
    "1. **Context-aware retrieval**: Finding guidelines that match the patient's specific situation\n",
    "2. **Relevance ranking**: Prioritizing the most applicable medical knowledge\n",
    "3. **Prompt engineering**: Creating medically informed prompts for the LLM\n",
    "\n",
    "This retrieval-augmented generation (RAG) approach ensures our meal recommendations are grounded in established medical guidelines."
   ]
  },
  {
   "cell_type": "code",
   "execution_count": 10,
   "id": "64b8f3c0",
   "metadata": {
    "_cell_guid": "d8cc02c2-c7c3-4d16-9b78-09f54b49fc43",
    "_uuid": "500055ba-e646-4fce-aa7e-3633a043915f",
    "collapsed": false,
    "execution": {
     "iopub.execute_input": "2025-04-15T16:28:50.405322Z",
     "iopub.status.busy": "2025-04-15T16:28:50.405126Z",
     "iopub.status.idle": "2025-04-15T16:28:50.410393Z",
     "shell.execute_reply": "2025-04-15T16:28:50.409949Z"
    },
    "jupyter": {
     "outputs_hidden": false
    },
    "papermill": {
     "duration": 0.014351,
     "end_time": "2025-04-15T16:28:50.411359",
     "exception": false,
     "start_time": "2025-04-15T16:28:50.397008",
     "status": "completed"
    },
    "tags": []
   },
   "outputs": [],
   "source": [
    "# Create ChromaDB collection\n",
    "def create_t1d_guidelines_db(documents, name=\"t1d_guidelines_db\"):\n",
    "    \"\"\"\n",
    "    Create a vector database of T1D guidelines for similarity search\n",
    "    \n",
    "    Args:\n",
    "        documents: List of T1D guideline texts\n",
    "        name: Name for the ChromaDB collection\n",
    "        \n",
    "    Returns:\n",
    "        ChromaDB collection with embedded guidelines\n",
    "    \"\"\"\n",
    "    chroma_client = chromadb.Client()\n",
    "    db = chroma_client.create_collection(\n",
    "        name=name,\n",
    "        embedding_function=GeminiEmbeddingFunction()\n",
    "    )\n",
    "    \n",
    "    for i, doc in enumerate(documents):\n",
    "        db.add(\n",
    "            documents=doc,\n",
    "            ids=f\"doc_{i}\",\n",
    "        )\n",
    "    return db\n",
    "\n",
    "# Retrieve relevant passages based on patient data\n",
    "def get_relevant_passages(patient_data, db, n_results=2):\n",
    "    \"\"\"\n",
    "    Find the most relevant T1D guidelines for a specific patient\n",
    "    \n",
    "    Args:\n",
    "        patient_data: Dictionary with patient information\n",
    "        db: ChromaDB collection with T1D guidelines\n",
    "        n_results: Number of relevant passages to retrieve\n",
    "        \n",
    "    Returns:\n",
    "        List of relevant guideline passages\n",
    "    \"\"\"\n",
    "    # Create a composite query string from patient data\n",
    "    age = patient_data['age']\n",
    "    age_group = \"\"\n",
    "    \n",
    "    if age < 13:\n",
    "        age_group = \"pediatric child\"\n",
    "    elif 13 <= age <= 18:\n",
    "        age_group = \"adolescent teen\"\n",
    "    elif 19 <= age <= 64:\n",
    "        age_group = \"adult\"\n",
    "    else:\n",
    "        age_group = \"elderly senior\"\n",
    "    \n",
    "    query = f\"{age_group} {patient_data['sex']} T1D patient weight {patient_data['weight']}kg with {patient_data['glucose_pattern']}\"\n",
    "    \n",
    "    # Retrieve the most relevant passages\n",
    "    results = db.query(query_texts=[query], n_results=n_results)\n",
    "    return results['documents'][0]"
   ]
  },
  {
   "cell_type": "markdown",
   "id": "4d0ac030",
   "metadata": {
    "_cell_guid": "2d8bee92-f6f7-4d6c-9128-d4a14c1a32b9",
    "_uuid": "6e602fc8-eade-4614-b6f3-c52f3260dc00",
    "collapsed": false,
    "jupyter": {
     "outputs_hidden": false
    },
    "papermill": {
     "duration": 0.007403,
     "end_time": "2025-04-15T16:28:50.426307",
     "exception": false,
     "start_time": "2025-04-15T16:28:50.418904",
     "status": "completed"
    },
    "tags": []
   },
   "source": [
    "### Prompt Engineering for Medical Guidance\n",
    "\n",
    "This section demonstrates how to craft effective prompts that combine:\n",
    "1. **Patient-specific data**: Demographics, glucose patterns, and preferences\n",
    "2. **Relevant medical guidelines**: Retrieved from our vector database\n",
    "3. **Clear instructions**: To ensure medically appropriate responses\n",
    "\n",
    "The prompts follow a consistent structure:\n",
    "- Context setting (role of the AI)\n",
    "- Inclusion of retrieved medical knowledge\n",
    "- Patient-specific data points\n",
    "- Clear question formulation\n",
    "- Guardrails to prevent hallucination\n",
    "\n",
    "This structured approach ensures the model generates responses that adhere to medical best practices while being tailored to the individual patient."
   ]
  },
  {
   "cell_type": "code",
   "execution_count": 11,
   "id": "4ab4e50f",
   "metadata": {
    "_cell_guid": "df6cf4c8-f0b0-47aa-aee3-d008da3fc759",
    "_uuid": "79ed5d1f-3cfd-4329-a368-06f2417f50c0",
    "collapsed": false,
    "execution": {
     "iopub.execute_input": "2025-04-15T16:28:50.489219Z",
     "iopub.status.busy": "2025-04-15T16:28:50.488534Z",
     "iopub.status.idle": "2025-04-15T16:28:50.491953Z",
     "shell.execute_reply": "2025-04-15T16:28:50.491400Z"
    },
    "jupyter": {
     "outputs_hidden": false
    },
    "papermill": {
     "duration": 0.013151,
     "end_time": "2025-04-15T16:28:50.493023",
     "exception": false,
     "start_time": "2025-04-15T16:28:50.479872",
     "status": "completed"
    },
    "tags": []
   },
   "outputs": [],
   "source": [
    "GENERATION_MODEL_NAME = \"gemini-2.0-flash\""
   ]
  },
  {
   "cell_type": "code",
   "execution_count": 12,
   "id": "508cc137",
   "metadata": {
    "_cell_guid": "09e9e7c5-d3b4-4db0-9e23-8c1f049d89bf",
    "_uuid": "b1351332-812a-4d44-806b-b161e4879e0f",
    "collapsed": false,
    "execution": {
     "iopub.execute_input": "2025-04-15T16:28:50.509168Z",
     "iopub.status.busy": "2025-04-15T16:28:50.508964Z",
     "iopub.status.idle": "2025-04-15T16:28:50.514178Z",
     "shell.execute_reply": "2025-04-15T16:28:50.513671Z"
    },
    "jupyter": {
     "outputs_hidden": false
    },
    "papermill": {
     "duration": 0.014493,
     "end_time": "2025-04-15T16:28:50.515136",
     "exception": false,
     "start_time": "2025-04-15T16:28:50.500643",
     "status": "completed"
    },
    "tags": []
   },
   "outputs": [],
   "source": [
    "# Create prompt for Gemini API\n",
    "def make_t1d_prompt(patient_data, relevant_passages):\n",
    "    \"\"\"\n",
    "    Create a structured prompt combining patient data and relevant T1D guidelines\n",
    "    \n",
    "    Args:\n",
    "        patient_data: Dictionary with patient information\n",
    "        relevant_passages: Retrieved medical guideline passages\n",
    "        \n",
    "    Returns:\n",
    "        Formatted prompt for the LLM\n",
    "    \"\"\"\n",
    "    escaped_passages = [p.replace(\"'\", \"\").replace('\"', \"\").replace(\"\\n\", \" \") for p in relevant_passages]\n",
    "    passages_text = \"\\n\".join([f\"PASSAGE {i+1}: '{p}'\" for i, p in enumerate(escaped_passages)])\n",
    "    \n",
    "    prompt = f\"\"\"\n",
    "    You are a healthcare AI assistant trained to provide information about Type 1 Diabetes management guidelines.\n",
    "    Answer based solely on the reference passages included below.\n",
    "    Be comprehensive but clear, and avoid medical jargon when possible.\n",
    "    If the passages don't contain relevant information to answer the question, acknowledge the limitations.\n",
    "    Do not make up information not contained in the passages.\n",
    "    \n",
    "    PATIENT: {patient_data['age']} year old {patient_data['sex']}, weighing {patient_data['weight']}kg\n",
    "    GLUCOSE PATTERN: {patient_data['glucose_pattern']}\n",
    "    QUESTION: '{patient_data['question']}'\n",
    "    \n",
    "    {passages_text}\n",
    "    \n",
    "    ANSWER:\n",
    "    \"\"\"\n",
    "    \n",
    "    return prompt\n",
    "\n",
    "# Generate response from Gemini\n",
    "def get_t1d_guidance(patient_data, db):\n",
    "    \"\"\"\n",
    "    Generate personalized T1D guidance based on patient data and medical guidelines\n",
    "    \n",
    "    Args:\n",
    "        patient_data: Dictionary with patient information\n",
    "        db: ChromaDB collection with T1D guidelines\n",
    "        \n",
    "    Returns:\n",
    "        Personalized guidance text\n",
    "    \"\"\"\n",
    "    # Get relevant passages\n",
    "    relevant_passages = get_relevant_passages(patient_data, db)\n",
    "    \n",
    "    # Create prompt\n",
    "    prompt = make_t1d_prompt(patient_data, relevant_passages)\n",
    "    \n",
    "    # Generate response\n",
    "    response = client.models.generate_content(\n",
    "        model=GENERATION_MODEL_NAME,\n",
    "        contents=prompt\n",
    "    )\n",
    "    \n",
    "    return response.text"
   ]
  },
  {
   "cell_type": "code",
   "execution_count": 13,
   "id": "9ecf1ec7",
   "metadata": {
    "_cell_guid": "6ce07ce1-5b7d-430f-9fa3-22e8c7fc9aae",
    "_uuid": "c547f4dd-43f0-476c-a09f-bca26b16346f",
    "collapsed": false,
    "execution": {
     "iopub.execute_input": "2025-04-15T16:28:50.531121Z",
     "iopub.status.busy": "2025-04-15T16:28:50.530932Z",
     "iopub.status.idle": "2025-04-15T16:28:50.747151Z",
     "shell.execute_reply": "2025-04-15T16:28:50.746584Z"
    },
    "jupyter": {
     "outputs_hidden": false
    },
    "papermill": {
     "duration": 0.225672,
     "end_time": "2025-04-15T16:28:50.748473",
     "exception": false,
     "start_time": "2025-04-15T16:28:50.522801",
     "status": "completed"
    },
    "tags": []
   },
   "outputs": [],
   "source": [
    "chroma_client = chromadb.Client()"
   ]
  },
  {
   "cell_type": "code",
   "execution_count": 14,
   "id": "f64ec603",
   "metadata": {
    "_cell_guid": "3edd34a5-4993-45a0-b85b-ac2c830fef3d",
    "_uuid": "849554a5-fc47-46c5-8348-9268e2deb12b",
    "collapsed": false,
    "execution": {
     "iopub.execute_input": "2025-04-15T16:28:50.765854Z",
     "iopub.status.busy": "2025-04-15T16:28:50.765333Z",
     "iopub.status.idle": "2025-04-15T16:28:50.769869Z",
     "shell.execute_reply": "2025-04-15T16:28:50.769254Z"
    },
    "jupyter": {
     "outputs_hidden": false
    },
    "papermill": {
     "duration": 0.01401,
     "end_time": "2025-04-15T16:28:50.770832",
     "exception": false,
     "start_time": "2025-04-15T16:28:50.756822",
     "status": "completed"
    },
    "tags": []
   },
   "outputs": [
    {
     "name": "stdout",
     "output_type": "stream",
     "text": [
      "Existing collections: []\n"
     ]
    }
   ],
   "source": [
    "collections = chroma_client.list_collections()\n",
    "print(f\"Existing collections: {[col.name for col in collections]}\")"
   ]
  },
  {
   "cell_type": "code",
   "execution_count": 15,
   "id": "66ff717e",
   "metadata": {
    "_cell_guid": "b7ab0a6c-a6ab-49d1-97e9-bb03b16ced33",
    "_uuid": "df662b00-2dce-4d80-8a8e-24f1c48aebbe",
    "collapsed": false,
    "execution": {
     "iopub.execute_input": "2025-04-15T16:28:50.787157Z",
     "iopub.status.busy": "2025-04-15T16:28:50.786981Z",
     "iopub.status.idle": "2025-04-15T16:28:54.734138Z",
     "shell.execute_reply": "2025-04-15T16:28:54.733380Z"
    },
    "jupyter": {
     "outputs_hidden": false
    },
    "papermill": {
     "duration": 3.957022,
     "end_time": "2025-04-15T16:28:54.735553",
     "exception": false,
     "start_time": "2025-04-15T16:28:50.778531",
     "status": "completed"
    },
    "tags": []
   },
   "outputs": [
    {
     "name": "stderr",
     "output_type": "stream",
     "text": [
      "/tmp/ipykernel_19/2187714205.py:16: DeprecationWarning: The class GeminiEmbeddingFunction does not implement __init__. This will be required in a future version.\n",
      "  embedding_function=GeminiEmbeddingFunction()\n"
     ]
    }
   ],
   "source": [
    "t1d_db = create_t1d_guidelines_db(documents)"
   ]
  },
  {
   "cell_type": "markdown",
   "id": "bd4fea2d",
   "metadata": {
    "_cell_guid": "78a6b646-33c9-48ba-a2bc-d261f0cd397f",
    "_uuid": "e0afce5f-c660-40d4-af74-b8a67ad1443d",
    "collapsed": false,
    "jupyter": {
     "outputs_hidden": false
    },
    "papermill": {
     "duration": 0.007613,
     "end_time": "2025-04-15T16:28:54.751576",
     "exception": false,
     "start_time": "2025-04-15T16:28:54.743963",
     "status": "completed"
    },
    "tags": []
   },
   "source": [
    "### Testing the T1D Guidance Component"
   ]
  },
  {
   "cell_type": "markdown",
   "id": "b9bf5dd5",
   "metadata": {
    "_cell_guid": "c682e002-d915-48de-b195-7e1cad28f5f2",
    "_uuid": "f8d7d162-195c-4a99-8ca0-fe4fa973b1fa",
    "collapsed": false,
    "jupyter": {
     "outputs_hidden": false
    },
    "papermill": {
     "duration": 0.007553,
     "end_time": "2025-04-15T16:28:54.766836",
     "exception": false,
     "start_time": "2025-04-15T16:28:54.759283",
     "status": "completed"
    },
    "tags": []
   },
   "source": [
    "Let's test our guidance component with a sample patient case to see how it retrieves and applies relevant medical knowledge."
   ]
  },
  {
   "cell_type": "code",
   "execution_count": 16,
   "id": "0b455459",
   "metadata": {
    "_cell_guid": "a446a465-9e72-4926-850b-e8893c271952",
    "_uuid": "8e38c2df-b1db-4b9c-9065-e3a7e270cc48",
    "collapsed": false,
    "execution": {
     "iopub.execute_input": "2025-04-15T16:28:54.783327Z",
     "iopub.status.busy": "2025-04-15T16:28:54.783046Z",
     "iopub.status.idle": "2025-04-15T16:28:56.902531Z",
     "shell.execute_reply": "2025-04-15T16:28:56.901758Z"
    },
    "jupyter": {
     "outputs_hidden": false
    },
    "papermill": {
     "duration": 2.129268,
     "end_time": "2025-04-15T16:28:56.903724",
     "exception": false,
     "start_time": "2025-04-15T16:28:54.774456",
     "status": "completed"
    },
    "tags": []
   },
   "outputs": [
    {
     "data": {
      "text/markdown": [
       "### T1D Management Guidance"
      ],
      "text/plain": [
       "<IPython.core.display.Markdown object>"
      ]
     },
     "metadata": {},
     "output_type": "display_data"
    },
    {
     "data": {
      "text/markdown": [
       "Here are some recommendations for adjusting your insulin to address morning highs related to the dawn phenomenon:\n",
       "\n",
       "*   **Basal Rate Adjustment:** Consider increasing your basal insulin rate by 10-30% between 3 AM and 7 AM.\n",
       "\n",
       "Additionally, these general recommendations may be relevant to your situation:\n",
       "\n",
       "*   **Weight Considerations:** Since you weigh 80kg, and the guidelines mention that for every 10% over ideal body weight, the insulin sensitivity factor should be reduced by 10%, it is important to consider your ideal body weight and adjust your insulin sensitivity factor accordingly.\n",
       "*   **Insulin Requirements:** The general insulin requirement for adults with Type 1 Diabetes is 0.5-1.0 units/kg/day, but this needs to be adjusted based on your activity level and insulin sensitivity.\n",
       "*   **Switching to Pump Therapy:** The guidelines suggest considering switching to pump therapy, which may offer more flexibility in managing the dawn phenomenon.\n",
       "\n"
      ],
      "text/plain": [
       "<IPython.core.display.Markdown object>"
      ]
     },
     "metadata": {},
     "output_type": "display_data"
    }
   ],
   "source": [
    "# Example patient data\n",
    "patient_data = {\n",
    "    'age': 20,\n",
    "    'sex': 'female',\n",
    "    'weight': 80,\n",
    "    'glucose_pattern': 'dawn phenomenon with morning highs',\n",
    "    'question': 'What insulin adjustments are recommended for my morning highs?'\n",
    "}\n",
    "\n",
    "# Get guidance\n",
    "guidance = get_t1d_guidance(patient_data, t1d_db)\n",
    "display(Markdown(\"### T1D Management Guidance\"))\n",
    "display(Markdown(guidance))"
   ]
  },
  {
   "cell_type": "markdown",
   "id": "5a1b9441",
   "metadata": {
    "_cell_guid": "332d106a-f6fe-45ad-bcc0-194abea43056",
    "_uuid": "c1b9bc9a-9a21-4db4-9b44-49c168d85037",
    "collapsed": false,
    "jupyter": {
     "outputs_hidden": false
    },
    "papermill": {
     "duration": 0.007752,
     "end_time": "2025-04-15T16:28:56.919879",
     "exception": false,
     "start_time": "2025-04-15T16:28:56.912127",
     "status": "completed"
    },
    "tags": []
   },
   "source": [
    "## Load and analyze data"
   ]
  },
  {
   "cell_type": "markdown",
   "id": "4c17e8dd",
   "metadata": {
    "_cell_guid": "68d4d82f-f7d0-4639-b924-e7a4e7d5c313",
    "_uuid": "df048c3c-41ab-4211-9480-dce9688c7fae",
    "collapsed": false,
    "jupyter": {
     "outputs_hidden": false
    },
    "papermill": {
     "duration": 0.00763,
     "end_time": "2025-04-15T16:28:56.935372",
     "exception": false,
     "start_time": "2025-04-15T16:28:56.927742",
     "status": "completed"
    },
    "tags": []
   },
   "source": [
    "This section demonstrates how to load patient glucose data and analyze it to identify patterns that will inform personalized meal planning.   \n",
    "The pattern recognition is crucial for creating tailored dietary recommendations."
   ]
  },
  {
   "cell_type": "code",
   "execution_count": 17,
   "id": "51aec95d",
   "metadata": {
    "_cell_guid": "4284f40d-55e2-4c01-a6e2-906fd48240e4",
    "_uuid": "f724010b-bcd6-4e14-baa8-8c2159a8c41c",
    "collapsed": false,
    "execution": {
     "iopub.execute_input": "2025-04-15T16:28:56.952353Z",
     "iopub.status.busy": "2025-04-15T16:28:56.952155Z",
     "iopub.status.idle": "2025-04-15T16:28:56.966754Z",
     "shell.execute_reply": "2025-04-15T16:28:56.966198Z"
    },
    "jupyter": {
     "outputs_hidden": false
    },
    "papermill": {
     "duration": 0.024483,
     "end_time": "2025-04-15T16:28:56.967828",
     "exception": false,
     "start_time": "2025-04-15T16:28:56.943345",
     "status": "completed"
    },
    "tags": []
   },
   "outputs": [],
   "source": [
    "def load_patient_data(file_path: str) -> dict:\n",
    "    \"\"\"\n",
    "    Load patient demographic data and analyze glucose readings from CSV\n",
    "    \n",
    "    Args:\n",
    "        file_path: Path to the CSV file with patient data\n",
    "        \n",
    "    Returns:\n",
    "        Dictionary with patient information and glucose pattern\n",
    "    \"\"\"\n",
    "    # Load data\n",
    "    df = pd.read_csv(file_path)\n",
    "    \n",
    "    # Extract patient information\n",
    "    patient_info = {\n",
    "        'age': df['age'].iloc[0] if 'age' in df.columns else None,\n",
    "        'sex': df['sex'].iloc[0] if 'sex' in df.columns else None,\n",
    "        'weight': df['weight'].iloc[0] if 'weight' in df.columns else None,\n",
    "        'allergies': df['allergies'].iloc[0] if 'allergies' in df.columns else 'None',\n",
    "        'food_preferences': df['food_preferences'].iloc[0] if 'food_preferences' in df.columns else None\n",
    "    }\n",
    "    \n",
    "    # Analyze glucose patterns\n",
    "    if 'glucose_reading' in df.columns and 'timestamp' in df.columns:\n",
    "        df['timestamp'] = pd.to_datetime(df['timestamp'])\n",
    "        df['hour'] = df['timestamp'].dt.hour\n",
    "        \n",
    "        # Identify time periods\n",
    "        df['period'] = pd.cut(\n",
    "            df['hour'],\n",
    "            bins=[0, 6, 12, 18, 24],\n",
    "            labels=['night', 'morning', 'afternoon', 'evening']\n",
    "        )\n",
    "        \n",
    "        # Calculate statistics by period\n",
    "        period_stats = df.groupby('period')['glucose_reading'].agg(['mean', 'std'])\n",
    "        \n",
    "        # Dawn phenomenon detection\n",
    "        morning_readings = df[(df['timestamp'].dt.hour >= 4) & (df['timestamp'].dt.hour <= 7)]\n",
    "        morning_avg = morning_readings['glucose_reading'].mean() if len(morning_readings) > 0 else 0\n",
    "        \n",
    "        # Post-meal spike detection\n",
    "        meal_times = [8, 13, 19]  # Breakfast, lunch, dinner hours\n",
    "        post_meal_spikes = []\n",
    "        \n",
    "        for meal_hour in meal_times:\n",
    "            meal_readings = df[(df['timestamp'].dt.hour >= meal_hour) & \n",
    "                              (df['timestamp'].dt.hour <= meal_hour + 2)]\n",
    "            if len(meal_readings) > 0:\n",
    "                post_meal_spikes.append(meal_readings['glucose_reading'].max())\n",
    "        \n",
    "        post_meal_avg = np.mean(post_meal_spikes) if post_meal_spikes else 0\n",
    "        \n",
    "        # Hypoglycemia detection\n",
    "        hypo_events = df[df['glucose_reading'] < 70]\n",
    "        hypo_count = len(hypo_events)\n",
    "        \n",
    "        # Determine dominant pattern\n",
    "        pattern = \"\"\n",
    "        if morning_avg > 160:\n",
    "            pattern += \"dawn phenomenon (elevated morning glucose) \"\n",
    "        \n",
    "        if post_meal_avg > 180:\n",
    "            pattern += \"post-meal spikes \"\n",
    "        \n",
    "        if hypo_count > 0:\n",
    "            pattern += f\"hypoglycemia ({hypo_count} events) \"\n",
    "        \n",
    "        if not pattern:\n",
    "            pattern = \"generally stable glucose levels\"\n",
    "            \n",
    "        patient_info['glucose_pattern'] = pattern.strip()\n",
    "    else:\n",
    "        patient_info['glucose_pattern'] = \"Unknown - insufficient glucose data\"\n",
    "    \n",
    "    return patient_info\n",
    "\n",
    "def analyze_glucose_statistics(patient_data, glucose_df=None):\n",
    "    \"\"\"\n",
    "    Analyze glucose monitoring data and calculate key statistics.\n",
    "    \n",
    "    Args:\n",
    "        patient_data: Dictionary with patient information\n",
    "        glucose_df: DataFrame with glucose monitoring data\n",
    "        \n",
    "    Returns:\n",
    "        Dictionary with calculated glucose statistics\n",
    "    \"\"\"\n",
    "    # Default values in case calculation fails\n",
    "    stats = {\n",
    "        'avg_glucose': 0.0,\n",
    "        'std_glucose': 0.0,\n",
    "        'time_in_range': 0.0,\n",
    "        'post_meal_rise': 0.0\n",
    "    }\n",
    "    \n",
    "    try:\n",
    "        if glucose_df is None or glucose_df.empty:\n",
    "            logger.warning(\"No glucose data available for analysis\")\n",
    "            return stats\n",
    "            \n",
    "        # Calculate average glucose level\n",
    "        stats['avg_glucose'] = glucose_df['glucose_reading'].mean()\n",
    "        \n",
    "        # Calculate standard deviation\n",
    "        stats['std_glucose'] = glucose_df['glucose_reading'].std()\n",
    "        \n",
    "        # Calculate time in range (70-180 mg/dL is typical range for T1D)\n",
    "        in_range = ((glucose_df['glucose_reading'] >= 70) & \n",
    "                   (glucose_df['glucose_reading'] <= 180)).mean() * 100\n",
    "        stats['time_in_range'] = in_range\n",
    "        \n",
    "        # Calculate post-meal rise if meal markers are available\n",
    "        if 'is_post_meal' in glucose_df.columns:\n",
    "            post_meal_readings = glucose_df[glucose_df['is_post_meal'] == True]\n",
    "            pre_meal_readings = glucose_df[glucose_df['is_post_meal'] == False]\n",
    "            \n",
    "            if not post_meal_readings.empty and not pre_meal_readings.empty:\n",
    "                stats['post_meal_rise'] = (post_meal_readings['glucose_reading'].mean() - \n",
    "                                          pre_meal_readings['glucose_reading'].mean())\n",
    "        \n",
    "        # Alternative approach if meal markers aren't available but timestamps are\n",
    "        elif 'timestamp' in glucose_df.columns and 'meal_time' in glucose_df.columns:\n",
    "            # Group readings by meal events and calculate the rise\n",
    "            meal_rises = []\n",
    "            \n",
    "            for meal_time in glucose_df['meal_time'].dropna().unique():\n",
    "                # Get timestamp of meal\n",
    "                meal_timestamp = pd.to_datetime(meal_time)\n",
    "                \n",
    "                # Find pre-meal reading (30 min before meal)\n",
    "                pre_meal = glucose_df[(pd.to_datetime(glucose_df['timestamp']) >= meal_timestamp - pd.Timedelta(minutes=30)) &\n",
    "                                     (pd.to_datetime(glucose_df['timestamp']) <= meal_timestamp)]\n",
    "                \n",
    "                # Find post-meal reading (2 hours after meal)\n",
    "                post_meal = glucose_df[(pd.to_datetime(glucose_df['timestamp']) >= meal_timestamp) &\n",
    "                                      (pd.to_datetime(glucose_df['timestamp']) <= meal_timestamp + pd.Timedelta(hours=2))]\n",
    "                \n",
    "                if not pre_meal.empty and not post_meal.empty:\n",
    "                    # Calculate rise from pre-meal to peak post-meal\n",
    "                    pre_value = pre_meal['glucose_reading'].mean()\n",
    "                    post_peak = post_meal['glucose_reading'].max()\n",
    "                    meal_rises.append(post_peak - pre_value)\n",
    "            \n",
    "            if meal_rises:\n",
    "                stats['post_meal_rise'] = sum(meal_rises) / len(meal_rises)\n",
    "            \n",
    "        # Ensure all values are properly formatted as floats\n",
    "        for key in stats:\n",
    "            if stats[key] is None or np.isnan(stats[key]):\n",
    "                stats[key] = 0.0\n",
    "            else:\n",
    "                stats[key] = float(stats[key])\n",
    "                \n",
    "        return stats\n",
    "        \n",
    "    except Exception as e:\n",
    "        logger.error(f\"Error analyzing glucose data: {str(e)}\")\n",
    "        return stats"
   ]
  },
  {
   "cell_type": "markdown",
   "id": "cb6057f4",
   "metadata": {
    "_cell_guid": "2e23be68-08f3-47a9-9af6-10531480d69d",
    "_uuid": "a022336b-b1b0-4a6e-b036-a9599247f6bd",
    "collapsed": false,
    "jupyter": {
     "outputs_hidden": false
    },
    "papermill": {
     "duration": 0.007645,
     "end_time": "2025-04-15T16:28:56.983307",
     "exception": false,
     "start_time": "2025-04-15T16:28:56.975662",
     "status": "completed"
    },
    "tags": []
   },
   "source": [
    "### Visualizing Glucose Patterns\n",
    "\n",
    "Visualizing glucose patterns helps identify key trends that inform meal planning. The chart below shows:\n",
    "\n",
    "- Average glucose levels by hour of day\n",
    "- Target range for blood glucose\n",
    "- Highlighted periods with potential issues (dawn phenomenon, post-meal spikes)\n",
    "\n",
    "This visualization makes it easier to identify when dietary interventions are most needed."
   ]
  },
  {
   "cell_type": "code",
   "execution_count": 18,
   "id": "e6547958",
   "metadata": {
    "_cell_guid": "c2403b23-d1b1-45d9-896a-9ff6b631982d",
    "_uuid": "b48a6d77-1d68-487e-9ef0-bf791d442871",
    "collapsed": false,
    "execution": {
     "iopub.execute_input": "2025-04-15T16:28:56.999726Z",
     "iopub.status.busy": "2025-04-15T16:28:56.999493Z",
     "iopub.status.idle": "2025-04-15T16:28:57.005178Z",
     "shell.execute_reply": "2025-04-15T16:28:57.004672Z"
    },
    "jupyter": {
     "outputs_hidden": false
    },
    "papermill": {
     "duration": 0.015138,
     "end_time": "2025-04-15T16:28:57.006329",
     "exception": false,
     "start_time": "2025-04-15T16:28:56.991191",
     "status": "completed"
    },
    "tags": []
   },
   "outputs": [],
   "source": [
    "def visualize_glucose_patterns(df):\n",
    "    \"\"\"\n",
    "    Create a visualization of glucose patterns throughout the day\n",
    "    \n",
    "    Args:\n",
    "        df: DataFrame with glucose readings including 'hour' column\n",
    "        \n",
    "    Returns:\n",
    "        Matplotlib figure with glucose visualization\n",
    "    \"\"\"\n",
    "    # Ensure hour column exists\n",
    "    if 'hour' not in df.columns and 'timestamp' in df.columns:\n",
    "        df['timestamp'] = pd.to_datetime(df['timestamp'])\n",
    "        df['hour'] = df['timestamp'].dt.hour\n",
    "        \n",
    "    # Group data by hour and calculate mean\n",
    "    hourly_glucose = df.groupby('hour')['glucose_reading'].mean()\n",
    "    \n",
    "    # Create plot\n",
    "    plt.figure(figsize=(10, 6))\n",
    "    ax = hourly_glucose.plot(kind='bar', color='skyblue')\n",
    "    \n",
    "    # Add horizontal reference lines for target ranges\n",
    "    plt.axhline(y=180, color='r', linestyle='-', alpha=0.3, label='High threshold')\n",
    "    plt.axhline(y=70, color='orange', linestyle='-', alpha=0.3, label='Low threshold')\n",
    "    plt.axhspan(70, 180, color='green', alpha=0.1, label='Target range')\n",
    "    \n",
    "    # Add labels and title\n",
    "    plt.xlabel('Hour of Day')\n",
    "    plt.ylabel('Average Glucose (mg/dL)')\n",
    "    plt.title('24-Hour Glucose Pattern')\n",
    "    plt.legend()\n",
    "    plt.xticks(rotation=45)\n",
    "    \n",
    "    # Highlight dawn phenomenon if present\n",
    "    if df.loc[df['hour'].between(4, 7), 'glucose_reading'].mean() > 180:\n",
    "        plt.axvspan(4, 7, color='purple', alpha=0.1, label='Dawn phenomenon')\n",
    "        plt.legend()\n",
    "    \n",
    "    plt.tight_layout()\n",
    "    return plt"
   ]
  },
  {
   "cell_type": "markdown",
   "id": "940a37ac",
   "metadata": {
    "_cell_guid": "8e9676a5-798b-407e-848b-d03f6cd662bb",
    "_uuid": "aeb0deb7-64b2-4a7f-bfa9-fe03eadb864c",
    "collapsed": false,
    "jupyter": {
     "outputs_hidden": false
    },
    "papermill": {
     "duration": 0.007848,
     "end_time": "2025-04-15T16:28:57.022229",
     "exception": false,
     "start_time": "2025-04-15T16:28:57.014381",
     "status": "completed"
    },
    "tags": []
   },
   "source": [
    "## Recipe Search and Analysis Engine\n",
    "\n",
    "This advanced recipe analysis system provides three key innovations:\n",
    "\n",
    "1. **Multimodal Recipe Analysis**: Evaluates recipes from both text and images when available\n",
    "2. **Personalized Glycemic Impact Prediction**: Estimates the glycemic impact based on patient-specific data\n",
    "3. **Adaptive Recommendation Engine**: Learns from patient feedback to improve future suggestions\n",
    "\n",
    "The system integrates:\n",
    "- Patient glucose monitoring data\n",
    "- Evidence-based T1D nutrition guidelines\n",
    "- Web-scraped recipe information\n",
    "- Optionally, food image analysis for enhanced nutrient estimation\n",
    "- Structured output requirements\n",
    "\n",
    "By using JSON as the output format, we enable easy parsing and presentation of the results, making them more accessible to patients."
   ]
  },
  {
   "cell_type": "code",
   "execution_count": 19,
   "id": "6ccec823",
   "metadata": {
    "_cell_guid": "bab90e64-4959-4765-924b-a09b9efa6a3f",
    "_uuid": "9e55b003-d214-41fd-80ed-6f1ccf54e904",
    "collapsed": false,
    "execution": {
     "iopub.execute_input": "2025-04-15T16:28:57.039276Z",
     "iopub.status.busy": "2025-04-15T16:28:57.039073Z",
     "iopub.status.idle": "2025-04-15T16:28:57.071764Z",
     "shell.execute_reply": "2025-04-15T16:28:57.071182Z"
    },
    "jupyter": {
     "outputs_hidden": false
    },
    "papermill": {
     "duration": 0.042718,
     "end_time": "2025-04-15T16:28:57.072802",
     "exception": false,
     "start_time": "2025-04-15T16:28:57.030084",
     "status": "completed"
    },
    "tags": []
   },
   "outputs": [],
   "source": [
    "class RecipeSearchEngine:\n",
    "    \"\"\"\n",
    "    Advanced recipe search engine using Gemini's capabilities to find and analyze\n",
    "    recipes suitable for Type 1 Diabetes patients.\n",
    "    \n",
    "    This class handles:\n",
    "    - Web search for relevant recipes\n",
    "    - Nutritional analysis\n",
    "    - Personalization based on patient data\n",
    "    - Glycemic impact estimation\n",
    "    \"\"\"\n",
    "    \n",
    "    def __init__(self, client, t1d_db=None):\n",
    "        \"\"\"\n",
    "        Initialize the recipe search engine.\n",
    "        \n",
    "        Args:\n",
    "            client: Gemini API client\n",
    "            t1d_db: ChromaDB collection with T1D guidelines\n",
    "        \"\"\"\n",
    "        self.client = client\n",
    "        self.t1d_db = t1d_db\n",
    "        self.recipe_cache = {}  # Cache to prevent redundant searches\n",
    "        self.model_config = {\n",
    "            \"search_model\": \"gemini-2.0-flash\",\n",
    "            \"analysis_model\": \"gemini-2.0-flash\",\n",
    "            \"temperature\": 0.2,\n",
    "            \"top_p\": 0.8,\n",
    "            \"max_output_tokens\": 2048\n",
    "        }\n",
    "    \n",
    "    def search_recipes(self, query: str, num_results: int = 3, \n",
    "                      include_images: bool = True) -> dict:\n",
    "        \"\"\"\n",
    "        Search for recipes using Gemini Web Search with multimodal capabilities.\n",
    "        \n",
    "        Args:\n",
    "            query: The search query for recipes\n",
    "            num_results: Number of recipe results to return\n",
    "            include_images: Whether to include and analyze recipe images\n",
    "            \n",
    "        Returns:\n",
    "            Dictionary containing recipe results and search metadata\n",
    "        \"\"\"\n",
    "        # Create cache key for this search\n",
    "        cache_key = f\"{query}_{num_results}_{include_images}\"\n",
    "        if cache_key in self.recipe_cache:\n",
    "            logger.info(\"Using cached recipe results\")\n",
    "            return self.recipe_cache[cache_key]\n",
    "        \n",
    "        # Build search prompt with multimodal instructions if needed\n",
    "        image_instruction = \"\"\n",
    "        if include_images:\n",
    "            image_instruction = \"\"\"\n",
    "            Also, if the recipe has images, please include the image URL.\n",
    "            For recipes with images, analyze the visual presentation and\n",
    "            portion size considerations for T1D patients.\n",
    "            \"\"\"\n",
    "            \n",
    "        search_prompt = f\"\"\"\n",
    "        Search the web for {num_results} different recipes that match this criteria: {query}\n",
    "        \n",
    "        For each recipe, provide:\n",
    "        1. The full recipe name\n",
    "        2. The source website with URL\n",
    "        3. List of ingredients with measurements\n",
    "        4. Cooking instructions with detailed steps\n",
    "        5. Estimated carbohydrate content per serving (if available, or provide a calculated estimate)\n",
    "        6. Protein and fat content (if available)\n",
    "        7. Glycemic index estimate (low/medium/high) with rationale\n",
    "        {image_instruction}\n",
    "        \n",
    "        Format the results clearly showing each recipe separately.\n",
    "        \"\"\"\n",
    "        \n",
    "        # Execute search using Gemini model with web search capabilities\n",
    "        try:\n",
    "            response = self.client.models.generate_content(\n",
    "                model=self.model_config[\"search_model\"],\n",
    "                contents=search_prompt,\n",
    "                config={\"tools\": [{\"google_search\": {}}]},\n",
    "            )\n",
    "            \n",
    "            # Capture search metadata for transparency\n",
    "            search_metadata = {\n",
    "                \"query\": query,\n",
    "                \"search_queries\": response.candidates[0].grounding_metadata.web_search_queries,\n",
    "                \"sources\": [site.web.title for site in response.candidates[0].grounding_metadata.grounding_chunks],\n",
    "                \"timestamp\": datetime.now().isoformat()\n",
    "            }\n",
    "            \n",
    "            # Package results\n",
    "            result = {\n",
    "                \"recipes_text\": response.text,\n",
    "                \"search_metadata\": search_metadata,\n",
    "                \"rendered_content\": response.candidates[0].grounding_metadata.search_entry_point.rendered_content\n",
    "            }\n",
    "            \n",
    "            # Cache results\n",
    "            self.recipe_cache[cache_key] = result\n",
    "            \n",
    "            # Track token usage if available\n",
    "            if hasattr(response, 'usage'):\n",
    "                logger.info(f\"Token usage - Prompt: {response.usage.prompt_tokens}, Completion: {response.usage.completion_tokens}\")\n",
    "            \n",
    "            return result\n",
    "            \n",
    "        except Exception as e:\n",
    "            logger.error(f\"Recipe search failed: {str(e)}\")\n",
    "            return {\n",
    "                \"error\": str(e), \n",
    "                \"recipes_text\": \"Failed to retrieve recipes.\",\n",
    "                \"search_metadata\": {\"query\": query, \"sources\": [], \"timestamp\": datetime.now().isoformat()},\n",
    "                \"rendered_content\": \"\"\n",
    "            }\n",
    "\n",
    "    def analyze_recipes_for_patient(self,\n",
    "                                     patient_data: dict,\n",
    "                                     recipes_text: str,\n",
    "                                     glucose_history: Optional[pd.DataFrame] = None) -> dict:\n",
    "        \"\"\"\n",
    "        Analyze recipes for suitability for a specific T1D patient.\n",
    "\n",
    "        Args:\n",
    "            patient_data: Dictionary with patient information\n",
    "            recipes_text: Text containing recipes from web search\n",
    "            glucose_history: Optional DataFrame with patient's glucose readings\n",
    "\n",
    "        Returns:\n",
    "            Dictionary with structured recipe analysis\n",
    "        \"\"\"\n",
    "        # Get relevant guidance from T1D database\n",
    "        relevant_passages = self._get_relevant_guidelines(patient_data)\n",
    "\n",
    "        # Prepare glucose insight if available\n",
    "        glucose_insight = \"\"\n",
    "        if glucose_history is not None:\n",
    "            glucose_stats = analyze_glucose_statistics(patient_data, glucose_history)  # Pass the glucose_history here\n",
    "            glucose_insight = f\"\"\"\n",
    "            Additional glucose monitoring insights:\n",
    "            - Average glucose: {glucose_stats['avg_glucose']:.1f} mg/dL\n",
    "            - Standard deviation: {glucose_stats['std_glucose']:.1f} mg/dL\n",
    "            - Time in range: {glucose_stats['time_in_range']:.1f}%\n",
    "            - Peak post-meal rise: {glucose_stats['post_meal_rise']:.1f} mg/dL on average\n",
    "            \"\"\"\n",
    "\n",
    "        # Create analysis prompt with all available data\n",
    "        basic_info = f\"\"\"\n",
    "        # Patient Profile for T1D Meal Planning\n",
    "\n",
    "        ## Basic Information:\n",
    "        - Age: {patient_data['age']} years old\n",
    "        - Sex: {patient_data['sex']}\n",
    "        - Weight: {patient_data['weight']}kg\n",
    "        - Glucose pattern: {patient_data['glucose_pattern']}\n",
    "        - Allergies/Restrictions: {patient_data.get('allergies', 'None')}\n",
    "        - Food preferences: {patient_data.get('food_preferences', 'No specific preferences')}\n",
    "        \"\"\"\n",
    "\n",
    "        guidelines_text = \"\\n\".join(relevant_passages)\n",
    "\n",
    "        recipes_block = f\"\"\"\n",
    "        ## Evidence-based T1D Guidelines:\n",
    "        {guidelines_text}\n",
    "\n",
    "        ## Recipes to Analyze:\n",
    "        {recipes_text}\n",
    "        \"\"\"\n",
    "\n",
    "        glucose_block = glucose_insight if glucose_history is not None else \"\"\n",
    "\n",
    "        analysis_instructions = f\"\"\"\n",
    "        ## Analysis Instructions:\n",
    "        For each recipe, provide a detailed T1D-focused analysis including:\n",
    "\n",
    "        1. Overall suitability (1-10 scale) with clear rationale based on the patient's specific glucose pattern\n",
    "        2. Carbohydrate breakdown: total amount, quality (complex vs simple), fiber content\n",
    "        3. Recommended portion size adjustment (if needed)\n",
    "        4. Specific modifications to better suit their T1D management (ingredient substitutions, cooking methods)\n",
    "        5. Meal timing recommendations (time of day best suited for this recipe)\n",
    "        6. Insulin considerations:\n",
    "           - Pre-bolus timing recommendations\n",
    "           - Potential impact of fat/protein on extended glucose effects\n",
    "           - Special dosing considerations (dual-wave/square-wave bolus needs)\n",
    "        7. Predicted glycemic impact (low/medium/high) with scientific explanation\n",
    "        \"\"\"\n",
    "\n",
    "        output_format = f\"\"\"\n",
    "        Format your response as JSON with this structure:\n",
    "        {{\n",
    "          \"recipes\": [\n",
    "            {{\n",
    "              \"name\": \"Recipe name\",\n",
    "              \"source\": \"Source website\",\n",
    "              \"url\": \"Recipe URL\",\n",
    "              \"ingredients\": [\"List\", \"of\", \"ingredients\"],\n",
    "              \"instructions\": [\"Step 1\", \"Step 2\", \"etc\"],\n",
    "              \"nutritional_analysis\": {{\n",
    "                \"carbs_grams\": numeric value,\n",
    "                \"protein_grams\": numeric value,\n",
    "                \"fat_grams\": numeric value,\n",
    "                \"fiber_grams\": numeric value,\n",
    "                \"glycemic_load_estimate\": numeric value\n",
    "              }},\n",
    "              \"t1d_analysis\": {{\n",
    "                \"suitability_score\": numeric value (1-10),\n",
    "                \"suitability_rationale\": \"Detailed explanation\",\n",
    "                \"portion_recommendation\": \"Specific recommendation\",\n",
    "                \"modifications\": [\"Modification 1\", \"Modification 2\"],\n",
    "                \"meal_timing\": \"Best time of day\",\n",
    "                \"insulin_guidance\": {{\n",
    "                  \"pre_bolus_timing\": \"Recommendation in minutes\",\n",
    "                  \"bolus_type\": \"Standard/Extended/Dual Wave\",\n",
    "                  \"special_considerations\": \"Any special notes\"\n",
    "                }},\n",
    "                \"glycemic_impact\": {{\n",
    "                  \"rating\": \"low/medium/high\",\n",
    "                  \"explanation\": \"Scientific explanation\"\n",
    "                }}\n",
    "              }}\n",
    "            }}\n",
    "            // Repeat for other recipes\n",
    "          ],\n",
    "          \"overall_recommendation\": \"Summary of best choices for this patient\"\n",
    "        }}\n",
    "        \"\"\"\n",
    "\n",
    "        # Combine everything\n",
    "        analysis_prompt = basic_info + glucose_block + recipes_block + analysis_instructions + output_format\n",
    "\n",
    "        # Generate structured analysis\n",
    "        try:\n",
    "            response = self.client.models.generate_content(\n",
    "                model=self.model_config[\"analysis_model\"],\n",
    "                contents=analysis_prompt,\n",
    "                config={\n",
    "                    \"temperature\": self.model_config[\"temperature\"],\n",
    "                    \"top_p\": self.model_config[\"top_p\"],\n",
    "                    \"response_mime_type\": \"application/json\",\n",
    "                    \"max_output_tokens\": self.model_config[\"max_output_tokens\"],\n",
    "                }\n",
    "            )\n",
    "\n",
    "            # Check if the response is valid JSON\n",
    "            if not response.text.strip().startswith('{'):\n",
    "                raise ValueError(\"Response is not valid JSON\")\n",
    "\n",
    "            # Parse the JSON response\n",
    "            result = json.loads(response.text)\n",
    "\n",
    "            # Add metadata to result\n",
    "            result[\"metadata\"] = {\n",
    "                \"analysis_timestamp\": datetime.now().isoformat(),\n",
    "                \"patient_age\": patient_data['age'],\n",
    "                \"glucose_pattern\": patient_data['glucose_pattern']\n",
    "            }\n",
    "\n",
    "            return result\n",
    "\n",
    "        except json.JSONDecodeError:\n",
    "            logger.error(\"JSON parsing failed in recipe analysis\")\n",
    "            # If JSON parsing fails, extract recipes manually\n",
    "            return {\n",
    "                \"error\": \"JSON parsing failed\",\n",
    "                \"raw_response\": response.text,\n",
    "                \"recipes\": [{\"name\": \"Error in recipe analysis\", \"rationale\": \"Could not structure the analysis properly\"}]\n",
    "            }\n",
    "        except ValueError as ve:\n",
    "            logger.error(f\"Value error in recipe analysis: {str(ve)}\")\n",
    "            return {\n",
    "                \"error\": str(ve),\n",
    "                \"raw_response\": response.text,\n",
    "                \"recipes\": [{\"name\": \"Error in recipe analysis\", \"rationale\": \"Response is not valid JSON\"}]\n",
    "            }\n",
    "        except Exception as e:\n",
    "            logger.error(f\"Recipe analysis failed: {str(e)}\")\n",
    "            return {\"error\": str(e)}\n",
    "\n",
    "    def _get_relevant_guidelines(self, patient_data: dict) -> List[str]:\n",
    "        \"\"\"\n",
    "        Query T1D guidelines database for relevant passages.\n",
    "        \n",
    "        Args:\n",
    "            patient_data: Dictionary with patient information\n",
    "            \n",
    "        Returns:\n",
    "            List of relevant guideline passages\n",
    "        \"\"\"\n",
    "        if self.t1d_db is None:\n",
    "            logger.warning(\"No T1D database provided, using default guidelines\")\n",
    "            return [\"Standard carbohydrate counting is recommended for T1D patients.\", \n",
    "                   \"Consider pre-bolusing insulin 15-20 minutes before meals.\"]\n",
    "            \n",
    "        # Query relevant information based on patient profile\n",
    "        query = f\"What dietary recommendations are appropriate for a {patient_data['age']}-year-old \" \\\n",
    "                f\"{patient_data['sex']} T1D patient with {patient_data['glucose_pattern']}?\"\n",
    "        \n",
    "        results = self.t1d_db.query(query_texts=[query], n_results=5)\n",
    "        \n",
    "        # Extract and return passages\n",
    "        if 'documents' in results and len(results['documents']) > 0:\n",
    "            return results['documents'][0]\n",
    "        else:\n",
    "            logger.warning(\"No relevant guidelines found in database\")\n",
    "            return [\"No specific guidelines found. Using standard T1D recommendations.\"]\n",
    "    \n",
    "    def visualize_recipe_analysis(self, analysis_result: dict) -> None:\n",
    "        \"\"\"\n",
    "        Create visualizations for recipe analysis results.\n",
    "    \n",
    "        Args:\n",
    "            analysis_result: Dictionary with recipe analysis\n",
    "        \"\"\"\n",
    "        if 'error' in analysis_result:\n",
    "            print(f\"Error in analysis: {analysis_result['error']}\")\n",
    "            return\n",
    "    \n",
    "        if 'recipes' not in analysis_result:\n",
    "            print(\"No recipes found in analysis results\")\n",
    "            return\n",
    "    \n",
    "        # Create a bar chart comparing suitability scores\n",
    "        recipes = analysis_result['recipes']\n",
    "        recipe_names = [r['name'] if len(r['name']) < 30 else r['name'][:27]+'...' for r in recipes]\n",
    "        suitability_scores = [r['t1d_analysis']['suitability_score'] if 't1d_analysis' in r else 0 for r in recipes]\n",
    "    \n",
    "        plt.figure(figsize=(10, 6))\n",
    "        bars = plt.bar(recipe_names, suitability_scores, color='skyblue')\n",
    "        plt.xlabel('Recipe')\n",
    "        plt.ylabel('T1D Suitability Score (1-10)')\n",
    "        plt.title('Recipe Suitability Comparison')\n",
    "        plt.xticks(rotation=45, ha='right')\n",
    "        plt.tight_layout()\n",
    "    \n",
    "        # Add values on top of bars\n",
    "        for bar in bars:\n",
    "            height = bar.get_height()\n",
    "            plt.text(bar.get_x() + bar.get_width()/2., height + 0.1,\n",
    "                    f'{height:.1f}', ha='center', va='bottom')\n",
    "    \n",
    "        plt.ylim(0, 11)  # Set y-axis limit\n",
    "        plt.show()\n",
    "    \n",
    "        # Create a nutritional comparison chart\n",
    "        if all('nutritional_analysis' in r for r in recipes):\n",
    "            carbs = [r['nutritional_analysis'].get('carbs_grams', 0) for r in recipes]\n",
    "            proteins = [r['nutritional_analysis'].get('protein_grams', 0) for r in recipes]\n",
    "            fats = [r['nutritional_analysis'].get('fat_grams', 0) for r in recipes]\n",
    "    \n",
    "            x = np.arange(len(recipe_names))\n",
    "            width = 0.25\n",
    "    \n",
    "            fig, ax = plt.subplots(figsize=(12, 6))\n",
    "            rects1 = ax.bar(x - width, carbs, width, label='Carbs (g)')\n",
    "            rects2 = ax.bar(x, proteins, width, label='Protein (g)')\n",
    "            rects3 = ax.bar(x + width, fats, width, label='Fat (g)')\n",
    "    \n",
    "            ax.set_xlabel('Recipes')\n",
    "            ax.set_ylabel('Grams')\n",
    "            ax.set_title('Macronutrient Comparison')\n",
    "            ax.set_xticks(x)\n",
    "            ax.set_xticklabels(recipe_names, rotation=45, ha='right')\n",
    "            ax.legend()\n",
    "    \n",
    "            fig.tight_layout()\n",
    "            plt.show()\n",
    "\n",
    "\n",
    "    # Dietary recommendation helper\n",
    "    def determine_dietary_focus(self, glucose_pattern: str) -> str:\n",
    "        \"\"\"\n",
    "        Determine appropriate dietary focus based on glucose pattern.\n",
    "        \n",
    "        Args:\n",
    "            glucose_pattern: String describing glucose pattern\n",
    "            \n",
    "        Returns:\n",
    "            String with dietary focus recommendation\n",
    "        \"\"\"\n",
    "        if \"dawn phenomenon\" in glucose_pattern.lower():\n",
    "            return \"lower carb breakfast options with protein and fat to minimize morning glucose rise\"\n",
    "        elif \"post-meal spike\" in glucose_pattern.lower():\n",
    "            return \"slow-releasing carbohydrate meals with high fiber content and moderate protein\"\n",
    "        elif \"hypoglycemia\" in glucose_pattern.lower():\n",
    "            return \"balanced meals with moderate carbohydrates, protein, and fat for stable glucose\"\n",
    "        else:\n",
    "            return \"balanced diabetic-friendly meals with consistent carbohydrate content\"\n",
    "    \n",
    "    # Recipe display function\n",
    "    def display_recipe_recommendations(self, recipe_analysis: dict) -> None:\n",
    "        \"\"\"\n",
    "        Format and display recipe recommendations in a user-friendly way.\n",
    "        \n",
    "        Args:\n",
    "            recipe_analysis: Dictionary with recipe analysis results\n",
    "        \"\"\"\n",
    "        if 'error' in recipe_analysis:\n",
    "            print(f\"Error in analysis: {recipe_analysis['error']}\")\n",
    "            return\n",
    "            \n",
    "        if 'recipes' not in recipe_analysis:\n",
    "            print(\"No recipes found in analysis results\")\n",
    "            return\n",
    "        \n",
    "        # Display overall recommendation if available\n",
    "        if 'overall_recommendation' in recipe_analysis:\n",
    "            display(Markdown(f\"## Overall Recommendation\\n{recipe_analysis['overall_recommendation']}\"))\n",
    "        \n",
    "        # Display individual recipes\n",
    "        for i, recipe in enumerate(recipe_analysis['recipes'], 1):\n",
    "            display(Markdown(f\"### Recipe {i}: {recipe['name']}\"))\n",
    "            \n",
    "            # Source information\n",
    "            if 'source' in recipe and 'url' in recipe:\n",
    "                display(Markdown(f\"**Source:** [{recipe['source']}]({recipe['url']})\"))\n",
    "            elif 'source' in recipe:\n",
    "                display(Markdown(f\"**Source:** {recipe['source']}\"))\n",
    "            \n",
    "            # T1D Analysis\n",
    "            if 't1d_analysis' in recipe:\n",
    "                t1d = recipe['t1d_analysis']\n",
    "                display(Markdown(f\"**T1D Suitability Score:** {t1d['suitability_score']}/10\"))\n",
    "                display(Markdown(f\"**Why this recipe is suitable:**\\n{t1d['suitability_rationale']}\"))\n",
    "                \n",
    "                # Nutritional information\n",
    "                if 'nutritional_analysis' in recipe:\n",
    "                    nutri = recipe['nutritional_analysis']\n",
    "                    nutri_md = f\"\"\"\n",
    "                    **Nutritional Analysis:**\n",
    "                    - Carbohydrates: {nutri.get('carbs_grams', 'N/A')}g\n",
    "                    - Protein: {nutri.get('protein_grams', 'N/A')}g\n",
    "                    - Fat: {nutri.get('fat_grams', 'N/A')}g\n",
    "                    - Fiber: {nutri.get('fiber_grams', 'N/A')}g\n",
    "                    - Glycemic Load Estimate: {nutri.get('glycemic_load_estimate', 'N/A')}\n",
    "                    \"\"\"\n",
    "                    display(Markdown(nutri_md))\n",
    "                \n",
    "                # Modifications and timing\n",
    "                display(Markdown(f\"**Recommended portion:** {t1d.get('portion_recommendation', 'Standard serving')}\"))\n",
    "                \n",
    "                if 'modifications' in t1d and t1d['modifications']:\n",
    "                    mods = \"\\n\".join([f\"- {mod}\" for mod in t1d['modifications']])\n",
    "                    display(Markdown(f\"**Recommended modifications:**\\n{mods}\"))\n",
    "                \n",
    "                display(Markdown(f\"**Best meal timing:** {t1d.get('meal_timing', 'Any time')}\"))\n",
    "                \n",
    "                # Insulin guidance\n",
    "                if 'insulin_guidance' in t1d:\n",
    "                    insulin = t1d['insulin_guidance']\n",
    "                    insulin_md = f\"\"\"\n",
    "                    **Insulin Considerations:**\n",
    "                    - Pre-bolus timing: {insulin.get('pre_bolus_timing', 'Standard')}\n",
    "                    - Bolus type: {insulin.get('bolus_type', 'Standard')}\n",
    "                    - Special considerations: {insulin.get('special_considerations', 'None')}\n",
    "                    \"\"\"\n",
    "                    display(Markdown(insulin_md))\n",
    "                \n",
    "                # Glycemic impact\n",
    "                if 'glycemic_impact' in t1d:\n",
    "                    gi = t1d['glycemic_impact']\n",
    "                    display(Markdown(f\"**Glycemic Impact:** {gi.get('rating', 'Unknown').upper()}\"))\n",
    "                    display(Markdown(f\"**Explanation:** {gi.get('explanation', 'Not provided')}\"))\n",
    "            \n",
    "            # Preview of ingredients\n",
    "            if 'ingredients' in recipe and recipe['ingredients']:\n",
    "                ingredients = recipe['ingredients']\n",
    "                if isinstance(ingredients, list):\n",
    "                    ing_preview = \"\\n\".join([f\"- {ing}\" for ing in ingredients[:5]])\n",
    "                    if len(ingredients) > 5:\n",
    "                        ing_preview += f\"\\n- *(plus {len(ingredients)-5} more ingredients)*\"\n",
    "                else:\n",
    "                    ing_preview = ingredients[:200] + \"...\" if len(ingredients) > 200 else ingredients\n",
    "                    \n",
    "                display(Markdown(f\"**Ingredients Preview:**\\n{ing_preview}\"))\n",
    "            \n",
    "            print(\"\\n---\\n\")\n",
    "\n",
    "\n",
    "def t1d_meal_planning_agent(glucose_data_path: str, t1d_db=None):\n",
    "    \"\"\"\n",
    "    Enhanced T1D meal planning agent that orchestrates the workflow for\n",
    "    personalized recipe recommendations.\n",
    "    \n",
    "    Args:\n",
    "        glucose_data_path: Path to the CSV file with patient glucose data\n",
    "        client: Gemini API client\n",
    "        t1d_db: ChromaDB collection with T1D guidelines\n",
    "        \n",
    "    Returns:\n",
    "        Dictionary with analysis results\n",
    "    \"\"\"\n",
    "    # Step 1: Load and analyze patient data\n",
    "    logger.info(\"Loading and analyzing patient data...\")\n",
    "    patient_data = load_patient_data(glucose_data_path)\n",
    "    \n",
    "    print(\"\\n🧑‍⚕️ Patient Profile Analysis\")\n",
    "    print(f\"Age: {patient_data['age']} years | Sex: {patient_data['sex']} | Weight: {patient_data['weight']}kg\")\n",
    "    print(f\"Glucose pattern: {patient_data['glucose_pattern']}\")\n",
    "    print(f\"Allergies: {patient_data.get('allergies', 'None')}\")\n",
    "    print(f\"Food preferences: {patient_data.get('food_preferences', 'No specific preferences')}\")\n",
    "    \n",
    "    # Load glucose history for personalized analysis\n",
    "    glucose_df = pd.read_csv(glucose_data_path)\n",
    "    \n",
    "    # Initialize recipe search engine\n",
    "    search_engine = RecipeSearchEngine(client, t1d_db)\n",
    "    \n",
    "    # Step 2: Determine dietary focus based on glucose pattern\n",
    "    dietary_focus = search_engine.determine_dietary_focus(patient_data['glucose_pattern'])\n",
    "    \n",
    "    # Step 3: Create personalized search query\n",
    "    allergies = patient_data.get('allergies', 'None')\n",
    "    preferences = patient_data.get('food_preferences', 'No specific preferences')\n",
    "    search_query = f\"diabetes-friendly recipes for {dietary_focus}, avoiding {allergies}, preferring {preferences}\"\n",
    "    \n",
    "    # Step 4: Search for recipes online\n",
    "    print(f\"\\n🌐 Searching for personalized recipes: {search_query}\")\n",
    "    search_results = search_engine.search_recipes(search_query, num_results=3, include_images=True)\n",
    "    \n",
    "    # Display search metadata\n",
    "    print(f\"\\nSearch Query: {search_results['search_metadata']['query']}\")\n",
    "    print(f\"Using sources: {', '.join(search_results['search_metadata']['sources'])}\")\n",
    "    display(HTML(search_results['rendered_content']))\n",
    "    \n",
    "    # Step 5: Analyze recipes for the specific patient\n",
    "    print(\"\\n🔍 Analyzing recipes for T1D compatibility...\")\n",
    "    recipe_analysis = search_engine.analyze_recipes_for_patient(\n",
    "        patient_data=patient_data,\n",
    "        recipes_text=search_results['recipes_text'],\n",
    "        glucose_history=glucose_df\n",
    "    )\n",
    "    \n",
    "    # Step 6: Visualize the analysis\n",
    "    print(\"\\n📊 Recipe Analysis Visualization\")\n",
    "    search_engine.visualize_recipe_analysis(recipe_analysis)\n",
    "    \n",
    "    # Step 7: Present detailed results\n",
    "    print(\"\\n👨‍🍳 Personalized Recipe Recommendations:\")\n",
    "    search_engine.display_recipe_recommendations(recipe_analysis)\n",
    "    \n",
    "    return {\n",
    "        \"patient_data\": patient_data,\n",
    "        \"search_results\": search_results,\n",
    "        \"recipe_analysis\": recipe_analysis\n",
    "    }"
   ]
  },
  {
   "cell_type": "markdown",
   "id": "ab673c40",
   "metadata": {
    "_cell_guid": "289ff2e6-26c8-48ed-9eae-6a2c0b1fa48c",
    "_uuid": "189a141d-8460-486b-b2b5-37726abf8624",
    "collapsed": false,
    "jupyter": {
     "outputs_hidden": false
    },
    "papermill": {
     "duration": 0.007869,
     "end_time": "2025-04-15T16:28:57.088980",
     "exception": false,
     "start_time": "2025-04-15T16:28:57.081111",
     "status": "completed"
    },
    "tags": []
   },
   "source": [
    "## Test The Ass1stant D."
   ]
  },
  {
   "cell_type": "markdown",
   "id": "ee074261",
   "metadata": {
    "_cell_guid": "fd761049-bf28-42c5-93a2-7fbaa5db4a3a",
    "_uuid": "61e79fcd-388e-4beb-802c-89a19d0d4535",
    "collapsed": false,
    "jupyter": {
     "outputs_hidden": false
    },
    "papermill": {
     "duration": 0.007703,
     "end_time": "2025-04-15T16:28:57.104509",
     "exception": false,
     "start_time": "2025-04-15T16:28:57.096806",
     "status": "completed"
    },
    "tags": []
   },
   "source": [
    "We can finally test our assistant on some sample glucose data created with a dedicated function."
   ]
  },
  {
   "cell_type": "code",
   "execution_count": 20,
   "id": "119b0195",
   "metadata": {
    "_cell_guid": "7e706a27-e915-44ad-817c-ea90b21e2fc3",
    "_uuid": "7b275f7e-0857-42f5-a690-a426faa2a930",
    "collapsed": false,
    "execution": {
     "iopub.execute_input": "2025-04-15T16:28:57.121403Z",
     "iopub.status.busy": "2025-04-15T16:28:57.120777Z",
     "iopub.status.idle": "2025-04-15T16:28:57.126453Z",
     "shell.execute_reply": "2025-04-15T16:28:57.125910Z"
    },
    "jupyter": {
     "outputs_hidden": false
    },
    "papermill": {
     "duration": 0.015274,
     "end_time": "2025-04-15T16:28:57.127466",
     "exception": false,
     "start_time": "2025-04-15T16:28:57.112192",
     "status": "completed"
    },
    "tags": []
   },
   "outputs": [],
   "source": [
    "def create_sample_patient_data(output_path: str = \"sample_patient_data.csv\"):\n",
    "    \"\"\"\n",
    "    Create a sample CSV file with patient data for testing\n",
    "    \n",
    "    Args:\n",
    "        output_path: Path to save the CSV file\n",
    "    \"\"\"\n",
    "    # Create timestamps for the last 3 days\n",
    "    now = datetime.now()\n",
    "    timestamps = []\n",
    "    glucose_readings = []\n",
    "    \n",
    "    # Generate sample readings for the past 3 days\n",
    "    for day in range(3):\n",
    "        for hour in range(24):\n",
    "            timestamp = now - timedelta(days=day, hours=now.hour - hour)\n",
    "            timestamps.append(timestamp)\n",
    "            \n",
    "            # Simulate different glucose patterns\n",
    "            if 4 <= hour <= 7:  # Dawn phenomenon\n",
    "                glucose_readings.append(np.random.normal(190, 20))\n",
    "            elif hour in [8, 13, 19]:  # Post-meal spikes\n",
    "                glucose_readings.append(np.random.normal(210, 25))\n",
    "            else:\n",
    "                glucose_readings.append(np.random.normal(140, 30))\n",
    "    \n",
    "    # Create DataFrame\n",
    "    df = pd.DataFrame({\n",
    "        'timestamp': timestamps,\n",
    "        'glucose_reading': glucose_readings,\n",
    "        'age': 18,\n",
    "        'sex': 'female',\n",
    "        'weight': 65,\n",
    "        'allergies': 'nuts, shellfish',\n",
    "        'food_preferences': 'Mediterranean cuisine, vegetable-rich meals'\n",
    "    })\n",
    "    \n",
    "    # Save to CSV\n",
    "    df.to_csv(output_path, index=False)\n",
    "    print(f\"Sample patient data saved to {output_path}\")\n",
    "    return output_path"
   ]
  },
  {
   "cell_type": "code",
   "execution_count": 21,
   "id": "11ea0ed1",
   "metadata": {
    "_cell_guid": "8f5f4a42-3569-47ea-9b7f-d0a9ff5378b0",
    "_uuid": "cf9146d2-6cec-4c54-85b7-fa5a0c55b3dd",
    "collapsed": false,
    "execution": {
     "iopub.execute_input": "2025-04-15T16:28:57.143874Z",
     "iopub.status.busy": "2025-04-15T16:28:57.143682Z",
     "iopub.status.idle": "2025-04-15T16:28:57.159052Z",
     "shell.execute_reply": "2025-04-15T16:28:57.158404Z"
    },
    "jupyter": {
     "outputs_hidden": false
    },
    "papermill": {
     "duration": 0.024767,
     "end_time": "2025-04-15T16:28:57.160099",
     "exception": false,
     "start_time": "2025-04-15T16:28:57.135332",
     "status": "completed"
    },
    "tags": []
   },
   "outputs": [
    {
     "name": "stdout",
     "output_type": "stream",
     "text": [
      "Sample patient data saved to sample_patient_data.csv\n"
     ]
    }
   ],
   "source": [
    "# Create sample data \n",
    "sample_data_path = create_sample_patient_data()"
   ]
  },
  {
   "cell_type": "code",
   "execution_count": 22,
   "id": "7173abc1",
   "metadata": {
    "_cell_guid": "87c30f1f-42f7-4a8c-932e-4d9106a5d8dd",
    "_uuid": "2c438fe6-2b55-4ea2-8d8a-290933d96e8f",
    "collapsed": false,
    "execution": {
     "iopub.execute_input": "2025-04-15T16:28:57.177407Z",
     "iopub.status.busy": "2025-04-15T16:28:57.177207Z",
     "iopub.status.idle": "2025-04-15T16:29:15.660201Z",
     "shell.execute_reply": "2025-04-15T16:29:15.659248Z"
    },
    "jupyter": {
     "outputs_hidden": false
    },
    "papermill": {
     "duration": 18.492871,
     "end_time": "2025-04-15T16:29:15.661552",
     "exception": false,
     "start_time": "2025-04-15T16:28:57.168681",
     "status": "completed"
    },
    "tags": []
   },
   "outputs": [
    {
     "name": "stdout",
     "output_type": "stream",
     "text": [
      "\n",
      "🧑‍⚕️ Patient Profile Analysis\n",
      "Age: 18 years | Sex: female | Weight: 65kg\n",
      "Glucose pattern: dawn phenomenon (elevated morning glucose) post-meal spikes\n",
      "Allergies: nuts, shellfish\n",
      "Food preferences: Mediterranean cuisine, vegetable-rich meals\n",
      "\n",
      "🌐 Searching for personalized recipes: diabetes-friendly recipes for lower carb breakfast options with protein and fat to minimize morning glucose rise, avoiding nuts, shellfish, preferring Mediterranean cuisine, vegetable-rich meals\n"
     ]
    },
    {
     "name": "stderr",
     "output_type": "stream",
     "text": [
      "/tmp/ipykernel_19/2748522369.py:36: FutureWarning: The default of observed=False is deprecated and will be changed to True in a future version of pandas. Pass observed=False to retain current behavior or observed=True to adopt the future default and silence this warning.\n",
      "  period_stats = df.groupby('period')['glucose_reading'].agg(['mean', 'std'])\n"
     ]
    },
    {
     "name": "stdout",
     "output_type": "stream",
     "text": [
      "\n",
      "Search Query: diabetes-friendly recipes for lower carb breakfast options with protein and fat to minimize morning glucose rise, avoiding nuts, shellfish, preferring Mediterranean cuisine, vegetable-rich meals\n",
      "Using sources: \n"
     ]
    },
    {
     "data": {
      "text/html": [],
      "text/plain": [
       "<IPython.core.display.HTML object>"
      ]
     },
     "metadata": {},
     "output_type": "display_data"
    },
    {
     "name": "stdout",
     "output_type": "stream",
     "text": [
      "\n",
      "🔍 Analyzing recipes for T1D compatibility...\n",
      "\n",
      "📊 Recipe Analysis Visualization\n"
     ]
    },
    {
     "data": {
      "image/png": "[encoded data removed]",
      "text/plain": [
       "<Figure size 1000x600 with 1 Axes>"
      ]
     },
     "metadata": {},
     "output_type": "display_data"
    },
    {
     "data": {
      "image/png": "[encoded data removed]",
      "text/plain": [
       "<Figure size 1200x600 with 1 Axes>"
      ]
     },
     "metadata": {},
     "output_type": "display_data"
    },
    {
     "name": "stdout",
     "output_type": "stream",
     "text": [
      "\n",
      "👨‍🍳 Personalized Recipe Recommendations:\n"
     ]
    },
    {
     "data": {
      "text/markdown": [
       "## Overall Recommendation\n",
       "No recipes were provided for analysis. Please provide recipes to receive a personalized recommendation."
      ],
      "text/plain": [
       "<IPython.core.display.Markdown object>"
      ]
     },
     "metadata": {},
     "output_type": "display_data"
    }
   ],
   "source": [
    "# run the agent\n",
    "result = t1d_meal_planning_agent(sample_data_path)"
   ]
  }
 ],
 "metadata": {
  "kaggle": {
   "accelerator": "none",
   "dataSources": [
    {
     "sourceId": 97258,
     "sourceType": "competition"
    },
    {
     "datasetId": 7149930,
     "sourceId": 11416250,
     "sourceType": "datasetVersion"
    }
   ],
   "dockerImageVersionId": 31012,
   "isGpuEnabled": false,
   "isInternetEnabled": true,
   "language": "python",
   "sourceType": "notebook"
  },
  "kernelspec": {
   "display_name": "Python 3",
   "language": "python",
   "name": "python3"
  },
  "language_info": {
   "codemirror_mode": {
    "name": "ipython",
    "version": 3
   },
   "file_extension": ".py",
   "mimetype": "text/x-python",
   "name": "python",
   "nbconvert_exporter": "python",
   "pygments_lexer": "ipython3",
   "version": "3.11.11"
  },
  "papermill": {
   "default_parameters": {},
   "duration": 69.244622,
   "end_time": "2025-04-15T16:29:16.592006",
   "environment_variables": {},
   "exception": null,
   "input_path": "__notebook__.ipynb",
   "output_path": "__notebook__.ipynb",
   "parameters": {},
   "start_time": "2025-04-15T16:28:07.347384",
   "version": "2.6.0"
  }
 },
 "nbformat": 4,
 "nbformat_minor": 5
}
